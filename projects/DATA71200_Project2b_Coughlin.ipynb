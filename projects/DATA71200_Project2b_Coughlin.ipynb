{
  "nbformat": 4,
  "nbformat_minor": 0,
  "metadata": {
    "colab": {
      "provenance": [],
      "authorship_tag": "ABX9TyP3mxqAxw+9r/V/eqc7QcUl",
      "include_colab_link": true
    },
    "kernelspec": {
      "name": "python3",
      "display_name": "Python 3"
    },
    "language_info": {
      "name": "python"
    }
  },
  "cells": [
    {
      "cell_type": "markdown",
      "metadata": {
        "id": "view-in-github",
        "colab_type": "text"
      },
      "source": [
        "<a href=\"https://colab.research.google.com/github/coughlinjennie/data71200/blob/main/projects/DATA71200_Project2b_Coughlin.ipynb\" target=\"_parent\"><img src=\"https://colab.research.google.com/assets/colab-badge.svg\" alt=\"Open In Colab\"/></a>"
      ]
    },
    {
      "cell_type": "markdown",
      "source": [
        "#Supervised Learning\n",
        "Because the field I want to use for labels is categorical — the property type — I'm using classifier models for this portion of the project. SVM, Gaussian naive Bayes, decision tree and KNN are the ones I'm considering.  \n"
      ],
      "metadata": {
        "id": "DkCjHTBbK8qW"
      }
    },
    {
      "cell_type": "code",
      "execution_count": 1,
      "metadata": {
        "id": "5uLCRS45A6-O",
        "colab": {
          "base_uri": "https://localhost:8080/"
        },
        "outputId": "3f52bafd-347a-483d-a060-48cc91bd02d3"
      },
      "outputs": [
        {
          "output_type": "stream",
          "name": "stdout",
          "text": [
            "Collecting scikit-learn==1.4\n",
            "  Downloading scikit_learn-1.4.0-1-cp310-cp310-manylinux_2_17_x86_64.manylinux2014_x86_64.whl (12.1 MB)\n",
            "\u001b[2K     \u001b[90m━━━━━━━━━━━━━━━━━━━━━━━━━━━━━━━━━━━━━━━━\u001b[0m \u001b[32m12.1/12.1 MB\u001b[0m \u001b[31m20.0 MB/s\u001b[0m eta \u001b[36m0:00:00\u001b[0m\n",
            "\u001b[?25hRequirement already satisfied: numpy<2.0,>=1.19.5 in /usr/local/lib/python3.10/dist-packages (from scikit-learn==1.4) (1.25.2)\n",
            "Requirement already satisfied: scipy>=1.6.0 in /usr/local/lib/python3.10/dist-packages (from scikit-learn==1.4) (1.11.4)\n",
            "Requirement already satisfied: joblib>=1.2.0 in /usr/local/lib/python3.10/dist-packages (from scikit-learn==1.4) (1.4.2)\n",
            "Requirement already satisfied: threadpoolctl>=2.0.0 in /usr/local/lib/python3.10/dist-packages (from scikit-learn==1.4) (3.5.0)\n",
            "Installing collected packages: scikit-learn\n",
            "  Attempting uninstall: scikit-learn\n",
            "    Found existing installation: scikit-learn 1.2.2\n",
            "    Uninstalling scikit-learn-1.2.2:\n",
            "      Successfully uninstalled scikit-learn-1.2.2\n",
            "Successfully installed scikit-learn-1.4.0\n"
          ]
        }
      ],
      "source": [
        "#Import the libraries and install scikit-learn\n",
        "import numpy as np\n",
        "import pandas as pd\n",
        "from pandas.plotting import scatter_matrix\n",
        "import requests\n",
        "import io\n",
        "import matplotlib.pyplot as plt\n",
        "\n",
        "\n",
        "!pip install -U scikit-learn==1.4"
      ]
    },
    {
      "cell_type": "markdown",
      "source": [
        "#Step 1: Import, split and clean the data\n",
        "This is brought over from Project 1, with a fix to stratify when I split the data and a data pipeline for cleaning the data now that I know what needs to be done."
      ],
      "metadata": {
        "id": "V6JEzCy3hv_c"
      }
    },
    {
      "cell_type": "code",
      "source": [
        "#Import the data, sourced from Kaggle and stored in my GitHub\n",
        "url = \"https://raw.githubusercontent.com/coughlinjennie/data71200/main/projects/nyhousing.csv\" # Make sure the url is the raw version of the file on GitHub\n",
        "download = requests.get(url).content\n",
        "#Load the data\n",
        "\n",
        "housing_master = pd.read_csv(io.StringIO(download.decode('utf-8')))"
      ],
      "metadata": {
        "id": "KaG3MPrpBOMp"
      },
      "execution_count": 2,
      "outputs": []
    },
    {
      "cell_type": "code",
      "source": [
        "housing_master[\"TYPE\"].value_counts()"
      ],
      "metadata": {
        "id": "a1KXV2keAAcF",
        "outputId": "c4fe7a4d-e122-4128-e61d-85f8753cc4fa",
        "colab": {
          "base_uri": "https://localhost:8080/"
        }
      },
      "execution_count": 3,
      "outputs": [
        {
          "output_type": "execute_result",
          "data": {
            "text/plain": [
              "TYPE\n",
              "Co-op for sale                1450\n",
              "House for sale                1012\n",
              "Condo for sale                 891\n",
              "Multi-family home for sale     727\n",
              "Townhouse for sale             299\n",
              "Pending                        243\n",
              "Contingent                      88\n",
              "Land for sale                   49\n",
              "For sale                        20\n",
              "Foreclosure                     14\n",
              "Condop for sale                  5\n",
              "Coming Soon                      2\n",
              "Mobile house for sale            1\n",
              "Name: count, dtype: int64"
            ]
          },
          "metadata": {},
          "execution_count": 3
        }
      ]
    },
    {
      "cell_type": "markdown",
      "source": [
        "I need to stratify the data when I split it, and the two values in this field that will interfere with that are ones I was going to drop anyway because they're not relevant for this model. (The TYPE field is showing the status of the property, but I'm using only the labels that indicate the property type and exclude the others, plus a couple that aren't super-relevant in New York.) We're not supposed to clean data until after we split it, but I can't figure out how to stratify the data for the split without doing this one step, so I'm going to do it anyway."
      ],
      "metadata": {
        "id": "41o33dCLAP-x"
      }
    },
    {
      "cell_type": "code",
      "source": [
        "# Delete all rows where column 'TYPE' has certain values\n",
        "indexType = housing_master[ (housing_master['TYPE'] == \"For sale\") | (housing_master['TYPE'] == \"Contingent\") | (housing_master['TYPE'] == \"Land for sale\") | (housing_master['TYPE'] == \"Foreclosure\") | (housing_master['TYPE'] == \"Pending\") | (housing_master['TYPE'] == \"Coming Soon\") | (housing_master['TYPE'] == \"Mobile house for sale\") ].index\n",
        "housing_master.drop(indexType , inplace=True)"
      ],
      "metadata": {
        "id": "fe-UPRdJ7iZq"
      },
      "execution_count": 4,
      "outputs": []
    },
    {
      "cell_type": "code",
      "source": [
        "housing_master[\"TYPE\"].value_counts()"
      ],
      "metadata": {
        "id": "uCTI992rFMfh",
        "outputId": "99ff57f2-7011-4072-8f12-79a0b26b9b6c",
        "colab": {
          "base_uri": "https://localhost:8080/"
        }
      },
      "execution_count": 5,
      "outputs": [
        {
          "output_type": "execute_result",
          "data": {
            "text/plain": [
              "TYPE\n",
              "Co-op for sale                1450\n",
              "House for sale                1012\n",
              "Condo for sale                 891\n",
              "Multi-family home for sale     727\n",
              "Townhouse for sale             299\n",
              "Condop for sale                  5\n",
              "Name: count, dtype: int64"
            ]
          },
          "metadata": {},
          "execution_count": 5
        }
      ]
    },
    {
      "cell_type": "code",
      "source": [
        "#Set the labels on TYPE\n",
        "\n",
        "housing_label = housing_master[\"TYPE\"]\n",
        "\n",
        "#Set the data\n",
        "housing = housing_master.drop(\"TYPE\", axis=1)\n",
        "print(housing)"
      ],
      "metadata": {
        "id": "hnzwjisWB-Wy",
        "outputId": "aed74aaa-4406-4397-c22f-3e24042fa71b",
        "colab": {
          "base_uri": "https://localhost:8080/"
        }
      },
      "execution_count": 6,
      "outputs": [
        {
          "output_type": "stream",
          "name": "stdout",
          "text": [
            "                                            BROKERTITLE      PRICE  BEDS  \\\n",
            "0           Brokered by Douglas Elliman  -111 Fifth Ave     315000     2   \n",
            "1                                   Brokered by Serhant  195000000     7   \n",
            "2                                Brokered by Sowae Corp     260000     4   \n",
            "3                                   Brokered by COMPASS      69000     3   \n",
            "4     Brokered by Sotheby's International Realty - E...   55000000     7   \n",
            "...                                                 ...        ...   ...   \n",
            "4796                                Brokered by COMPASS     599000     1   \n",
            "4797                    Brokered by Mjr Real Estate Llc     245000     1   \n",
            "4798      Brokered by Douglas Elliman - 575 Madison Ave    1275000     1   \n",
            "4799            Brokered by E Realty International Corp     598125     2   \n",
            "4800                 Brokered by Nyc Realty Brokers Llc     349000     1   \n",
            "\n",
            "           BATH  PROPERTYSQFT  \\\n",
            "0      2.000000   1400.000000   \n",
            "1     10.000000  17545.000000   \n",
            "2      2.000000   2015.000000   \n",
            "3      1.000000    445.000000   \n",
            "4      2.373861  14175.000000   \n",
            "...         ...           ...   \n",
            "4796   1.000000   2184.207862   \n",
            "4797   1.000000   2184.207862   \n",
            "4798   1.000000   2184.207862   \n",
            "4799   1.000000    655.000000   \n",
            "4800   1.000000    750.000000   \n",
            "\n",
            "                                                ADDRESS  \\\n",
            "0                                  2 E 55th St Unit 803   \n",
            "1     Central Park Tower Penthouse-217 W 57th New Yo...   \n",
            "2                                      620 Sinclair Ave   \n",
            "3                               2 E 55th St Unit 908W33   \n",
            "4                                           5 E 64th St   \n",
            "...                                                 ...   \n",
            "4796                               222 E 80th St Apt 3A   \n",
            "4797                                97-40 62 Dr Unit Lg   \n",
            "4798                          427 W 21st St Unit Garden   \n",
            "4799                           91-23 Corona Ave Unit 4G   \n",
            "4800                            460 Neptune Ave Apt 14O   \n",
            "\n",
            "                        STATE  \\\n",
            "0          New York, NY 10022   \n",
            "1          New York, NY 10019   \n",
            "2     Staten Island, NY 10312   \n",
            "3         Manhattan, NY 10022   \n",
            "4          New York, NY 10065   \n",
            "...                       ...   \n",
            "4796      Manhattan, NY 10075   \n",
            "4797      Rego Park, NY 11374   \n",
            "4798       New York, NY 10011   \n",
            "4799       Elmhurst, NY 11373   \n",
            "4800       Brooklyn, NY 11224   \n",
            "\n",
            "                                           MAIN_ADDRESS  \\\n",
            "0                2 E 55th St Unit 803New York, NY 10022   \n",
            "1     Central Park Tower Penthouse-217 W 57th New Yo...   \n",
            "2               620 Sinclair AveStaten Island, NY 10312   \n",
            "3            2 E 55th St Unit 908W33Manhattan, NY 10022   \n",
            "4                         5 E 64th StNew York, NY 10065   \n",
            "...                                                 ...   \n",
            "4796            222 E 80th St Apt 3AManhattan, NY 10075   \n",
            "4797             97-40 62 Dr Unit LgRego Park, NY 11374   \n",
            "4798        427 W 21st St Unit GardenNew York, NY 10011   \n",
            "4799         91-23 Corona Ave Unit 4GElmhurst, NY 11373   \n",
            "4800          460 Neptune Ave Apt 14OBrooklyn, NY 11224   \n",
            "\n",
            "     ADMINISTRATIVE_AREA_LEVEL_2         LOCALITY      SUBLOCALITY  \\\n",
            "0                New York County         New York        Manhattan   \n",
            "1                  United States         New York  New York County   \n",
            "2                  United States         New York  Richmond County   \n",
            "3                  United States         New York  New York County   \n",
            "4                  United States         New York  New York County   \n",
            "...                          ...              ...              ...   \n",
            "4796                    New York  New York County         New York   \n",
            "4797               United States         New York    Queens County   \n",
            "4798               United States         New York  New York County   \n",
            "4799                    New York    Queens County           Queens   \n",
            "4800                    New York     Kings County         Brooklyn   \n",
            "\n",
            "           STREET_NAME         LONG_NAME  \\\n",
            "0     East 55th Street   Regis Residence   \n",
            "1             New York  West 57th Street   \n",
            "2        Staten Island   Sinclair Avenue   \n",
            "3             New York  East 55th Street   \n",
            "4             New York  East 64th Street   \n",
            "...                ...               ...   \n",
            "4796         Manhattan               222   \n",
            "4797            Queens        62nd Drive   \n",
            "4798          New York  West 21st Street   \n",
            "4799          Flushing             91-23   \n",
            "4800      Coney Island               460   \n",
            "\n",
            "                                      FORMATTED_ADDRESS   LATITUDE  LONGITUDE  \n",
            "0     Regis Residence, 2 E 55th St #803, New York, N...  40.761255 -73.974483  \n",
            "1                217 W 57th St, New York, NY 10019, USA  40.766393 -73.980991  \n",
            "2        620 Sinclair Ave, Staten Island, NY 10312, USA  40.541805 -74.196109  \n",
            "3                  2 E 55th St, New York, NY 10022, USA  40.761398 -73.974613  \n",
            "4                  5 E 64th St, New York, NY 10065, USA  40.767224 -73.969856  \n",
            "...                                                 ...        ...        ...  \n",
            "4796         222 E 80th St #3a, New York, NY 10075, USA  40.774350 -73.955879  \n",
            "4797            97-40 62nd Dr, Rego Park, NY 11374, USA  40.732538 -73.860152  \n",
            "4798             427 W 21st St, New York, NY 10011, USA  40.745882 -74.003398  \n",
            "4799     91-23 Corona Ave. #4b, Flushing, NY 11373, USA  40.742770 -73.872752  \n",
            "4800      460 Neptune Ave #14a, Brooklyn, NY 11224, USA  40.579147 -73.970949  \n",
            "\n",
            "[4384 rows x 16 columns]\n"
          ]
        }
      ]
    },
    {
      "cell_type": "code",
      "source": [
        "#Divide the data into training and testing sets\n",
        "from sklearn.model_selection import train_test_split\n",
        "\n",
        "housing_train, housing_test, housing_label_train, housing_label_test = train_test_split(housing, housing_label, test_size=0.3, stratify=housing_label, random_state=42)\n"
      ],
      "metadata": {
        "id": "fnacdpanBmiU"
      },
      "execution_count": 7,
      "outputs": []
    },
    {
      "cell_type": "markdown",
      "source": [
        "The ZIP code field was giving me fits trying to one hot encode it, so I'm trying this without that field to see if the model is useful enough without it."
      ],
      "metadata": {
        "id": "9jmQmecXdDzZ"
      }
    },
    {
      "cell_type": "code",
      "source": [
        "# Create a list of redundant column names to drop from the training data only\n",
        "to_drop = [\"LONGITUDE\", \"LATITUDE\", \"ADDRESS\", \"ADMINISTRATIVE_AREA_LEVEL_2\", \"LOCALITY\", \"SUBLOCALITY\", \"FORMATTED_ADDRESS\", \"MAIN_ADDRESS\", \"STATE\", \"STREET_NAME\",\"LONG_NAME\",\"BROKERTITLE\"]\n",
        "\n",
        "# Drop those columns from the dataset\n",
        "housing_subset = housing_train.drop(to_drop, axis = 1)\n",
        "h_test_subset = housing_test.drop(to_drop, axis = 1)\n",
        "\n"
      ],
      "metadata": {
        "id": "ERbaQosgtubJ"
      },
      "execution_count": 47,
      "outputs": []
    },
    {
      "cell_type": "markdown",
      "source": [
        "The dropped columns are redundant, but if they exist in the testing data the model just won't use them. So this step was only done on the training data."
      ],
      "metadata": {
        "id": "dEMtJKZSdeEt"
      }
    },
    {
      "cell_type": "code",
      "source": [
        "#Drop all properties that sold for more than $1B from training data only\n",
        "\n",
        "housing_clean = housing_subset[housing_subset['PRICE'] <= 100000000]\n",
        "label_train_clean = housing_label_train[housing_subset['PRICE'] <= 100000000]\n"
      ],
      "metadata": {
        "id": "yZ0nsEkDByn0"
      },
      "execution_count": 27,
      "outputs": []
    },
    {
      "cell_type": "code",
      "source": [
        "housing_clean.info()\n",
        "label_train_clean.info()"
      ],
      "metadata": {
        "id": "0CHLAvwkGlZT",
        "outputId": "4bcefe08-78a5-4559-95be-d8f499e9efc4",
        "colab": {
          "base_uri": "https://localhost:8080/"
        }
      },
      "execution_count": 28,
      "outputs": [
        {
          "output_type": "stream",
          "name": "stdout",
          "text": [
            "<class 'pandas.core.frame.DataFrame'>\n",
            "Index: 3067 entries, 2589 to 2311\n",
            "Data columns (total 4 columns):\n",
            " #   Column        Non-Null Count  Dtype  \n",
            "---  ------        --------------  -----  \n",
            " 0   PRICE         3067 non-null   int64  \n",
            " 1   BEDS          3067 non-null   int64  \n",
            " 2   BATH          3067 non-null   float64\n",
            " 3   PROPERTYSQFT  3067 non-null   float64\n",
            "dtypes: float64(2), int64(2)\n",
            "memory usage: 119.8 KB\n",
            "<class 'pandas.core.series.Series'>\n",
            "Index: 3067 entries, 2589 to 2311\n",
            "Series name: TYPE\n",
            "Non-Null Count  Dtype \n",
            "--------------  ----- \n",
            "3067 non-null   object\n",
            "dtypes: object(1)\n",
            "memory usage: 47.9+ KB\n"
          ]
        }
      ]
    },
    {
      "cell_type": "code",
      "source": [
        "housing_clean.describe()"
      ],
      "metadata": {
        "id": "ALK_CBBqIwdz",
        "outputId": "486c8a03-2608-4a04-972d-3260ba3d5b6c",
        "colab": {
          "base_uri": "https://localhost:8080/",
          "height": 300
        }
      },
      "execution_count": 29,
      "outputs": [
        {
          "output_type": "execute_result",
          "data": {
            "text/plain": [
              "              PRICE         BEDS         BATH  PROPERTYSQFT\n",
              "count  3.067000e+03  3067.000000  3067.000000   3067.000000\n",
              "mean   1.955427e+06     3.401043     2.392915   2202.658046\n",
              "std    4.342835e+06     2.810770     2.058869   2420.874714\n",
              "min    4.950000e+04     1.000000     0.000000    250.000000\n",
              "25%    4.990000e+05     2.000000     1.000000   1166.500000\n",
              "50%    8.450000e+05     3.000000     2.000000   2184.207862\n",
              "75%    1.499000e+06     4.000000     3.000000   2184.207862\n",
              "max    6.500000e+07    50.000000    50.000000  65535.000000"
            ],
            "text/html": [
              "\n",
              "  <div id=\"df-7cd59d01-fc75-42c4-982b-33d9d06b182e\" class=\"colab-df-container\">\n",
              "    <div>\n",
              "<style scoped>\n",
              "    .dataframe tbody tr th:only-of-type {\n",
              "        vertical-align: middle;\n",
              "    }\n",
              "\n",
              "    .dataframe tbody tr th {\n",
              "        vertical-align: top;\n",
              "    }\n",
              "\n",
              "    .dataframe thead th {\n",
              "        text-align: right;\n",
              "    }\n",
              "</style>\n",
              "<table border=\"1\" class=\"dataframe\">\n",
              "  <thead>\n",
              "    <tr style=\"text-align: right;\">\n",
              "      <th></th>\n",
              "      <th>PRICE</th>\n",
              "      <th>BEDS</th>\n",
              "      <th>BATH</th>\n",
              "      <th>PROPERTYSQFT</th>\n",
              "    </tr>\n",
              "  </thead>\n",
              "  <tbody>\n",
              "    <tr>\n",
              "      <th>count</th>\n",
              "      <td>3.067000e+03</td>\n",
              "      <td>3067.000000</td>\n",
              "      <td>3067.000000</td>\n",
              "      <td>3067.000000</td>\n",
              "    </tr>\n",
              "    <tr>\n",
              "      <th>mean</th>\n",
              "      <td>1.955427e+06</td>\n",
              "      <td>3.401043</td>\n",
              "      <td>2.392915</td>\n",
              "      <td>2202.658046</td>\n",
              "    </tr>\n",
              "    <tr>\n",
              "      <th>std</th>\n",
              "      <td>4.342835e+06</td>\n",
              "      <td>2.810770</td>\n",
              "      <td>2.058869</td>\n",
              "      <td>2420.874714</td>\n",
              "    </tr>\n",
              "    <tr>\n",
              "      <th>min</th>\n",
              "      <td>4.950000e+04</td>\n",
              "      <td>1.000000</td>\n",
              "      <td>0.000000</td>\n",
              "      <td>250.000000</td>\n",
              "    </tr>\n",
              "    <tr>\n",
              "      <th>25%</th>\n",
              "      <td>4.990000e+05</td>\n",
              "      <td>2.000000</td>\n",
              "      <td>1.000000</td>\n",
              "      <td>1166.500000</td>\n",
              "    </tr>\n",
              "    <tr>\n",
              "      <th>50%</th>\n",
              "      <td>8.450000e+05</td>\n",
              "      <td>3.000000</td>\n",
              "      <td>2.000000</td>\n",
              "      <td>2184.207862</td>\n",
              "    </tr>\n",
              "    <tr>\n",
              "      <th>75%</th>\n",
              "      <td>1.499000e+06</td>\n",
              "      <td>4.000000</td>\n",
              "      <td>3.000000</td>\n",
              "      <td>2184.207862</td>\n",
              "    </tr>\n",
              "    <tr>\n",
              "      <th>max</th>\n",
              "      <td>6.500000e+07</td>\n",
              "      <td>50.000000</td>\n",
              "      <td>50.000000</td>\n",
              "      <td>65535.000000</td>\n",
              "    </tr>\n",
              "  </tbody>\n",
              "</table>\n",
              "</div>\n",
              "    <div class=\"colab-df-buttons\">\n",
              "\n",
              "  <div class=\"colab-df-container\">\n",
              "    <button class=\"colab-df-convert\" onclick=\"convertToInteractive('df-7cd59d01-fc75-42c4-982b-33d9d06b182e')\"\n",
              "            title=\"Convert this dataframe to an interactive table.\"\n",
              "            style=\"display:none;\">\n",
              "\n",
              "  <svg xmlns=\"http://www.w3.org/2000/svg\" height=\"24px\" viewBox=\"0 -960 960 960\">\n",
              "    <path d=\"M120-120v-720h720v720H120Zm60-500h600v-160H180v160Zm220 220h160v-160H400v160Zm0 220h160v-160H400v160ZM180-400h160v-160H180v160Zm440 0h160v-160H620v160ZM180-180h160v-160H180v160Zm440 0h160v-160H620v160Z\"/>\n",
              "  </svg>\n",
              "    </button>\n",
              "\n",
              "  <style>\n",
              "    .colab-df-container {\n",
              "      display:flex;\n",
              "      gap: 12px;\n",
              "    }\n",
              "\n",
              "    .colab-df-convert {\n",
              "      background-color: #E8F0FE;\n",
              "      border: none;\n",
              "      border-radius: 50%;\n",
              "      cursor: pointer;\n",
              "      display: none;\n",
              "      fill: #1967D2;\n",
              "      height: 32px;\n",
              "      padding: 0 0 0 0;\n",
              "      width: 32px;\n",
              "    }\n",
              "\n",
              "    .colab-df-convert:hover {\n",
              "      background-color: #E2EBFA;\n",
              "      box-shadow: 0px 1px 2px rgba(60, 64, 67, 0.3), 0px 1px 3px 1px rgba(60, 64, 67, 0.15);\n",
              "      fill: #174EA6;\n",
              "    }\n",
              "\n",
              "    .colab-df-buttons div {\n",
              "      margin-bottom: 4px;\n",
              "    }\n",
              "\n",
              "    [theme=dark] .colab-df-convert {\n",
              "      background-color: #3B4455;\n",
              "      fill: #D2E3FC;\n",
              "    }\n",
              "\n",
              "    [theme=dark] .colab-df-convert:hover {\n",
              "      background-color: #434B5C;\n",
              "      box-shadow: 0px 1px 3px 1px rgba(0, 0, 0, 0.15);\n",
              "      filter: drop-shadow(0px 1px 2px rgba(0, 0, 0, 0.3));\n",
              "      fill: #FFFFFF;\n",
              "    }\n",
              "  </style>\n",
              "\n",
              "    <script>\n",
              "      const buttonEl =\n",
              "        document.querySelector('#df-7cd59d01-fc75-42c4-982b-33d9d06b182e button.colab-df-convert');\n",
              "      buttonEl.style.display =\n",
              "        google.colab.kernel.accessAllowed ? 'block' : 'none';\n",
              "\n",
              "      async function convertToInteractive(key) {\n",
              "        const element = document.querySelector('#df-7cd59d01-fc75-42c4-982b-33d9d06b182e');\n",
              "        const dataTable =\n",
              "          await google.colab.kernel.invokeFunction('convertToInteractive',\n",
              "                                                    [key], {});\n",
              "        if (!dataTable) return;\n",
              "\n",
              "        const docLinkHtml = 'Like what you see? Visit the ' +\n",
              "          '<a target=\"_blank\" href=https://colab.research.google.com/notebooks/data_table.ipynb>data table notebook</a>'\n",
              "          + ' to learn more about interactive tables.';\n",
              "        element.innerHTML = '';\n",
              "        dataTable['output_type'] = 'display_data';\n",
              "        await google.colab.output.renderOutput(dataTable, element);\n",
              "        const docLink = document.createElement('div');\n",
              "        docLink.innerHTML = docLinkHtml;\n",
              "        element.appendChild(docLink);\n",
              "      }\n",
              "    </script>\n",
              "  </div>\n",
              "\n",
              "\n",
              "<div id=\"df-62e7cd39-aefe-4120-8537-0db72adee557\">\n",
              "  <button class=\"colab-df-quickchart\" onclick=\"quickchart('df-62e7cd39-aefe-4120-8537-0db72adee557')\"\n",
              "            title=\"Suggest charts\"\n",
              "            style=\"display:none;\">\n",
              "\n",
              "<svg xmlns=\"http://www.w3.org/2000/svg\" height=\"24px\"viewBox=\"0 0 24 24\"\n",
              "     width=\"24px\">\n",
              "    <g>\n",
              "        <path d=\"M19 3H5c-1.1 0-2 .9-2 2v14c0 1.1.9 2 2 2h14c1.1 0 2-.9 2-2V5c0-1.1-.9-2-2-2zM9 17H7v-7h2v7zm4 0h-2V7h2v10zm4 0h-2v-4h2v4z\"/>\n",
              "    </g>\n",
              "</svg>\n",
              "  </button>\n",
              "\n",
              "<style>\n",
              "  .colab-df-quickchart {\n",
              "      --bg-color: #E8F0FE;\n",
              "      --fill-color: #1967D2;\n",
              "      --hover-bg-color: #E2EBFA;\n",
              "      --hover-fill-color: #174EA6;\n",
              "      --disabled-fill-color: #AAA;\n",
              "      --disabled-bg-color: #DDD;\n",
              "  }\n",
              "\n",
              "  [theme=dark] .colab-df-quickchart {\n",
              "      --bg-color: #3B4455;\n",
              "      --fill-color: #D2E3FC;\n",
              "      --hover-bg-color: #434B5C;\n",
              "      --hover-fill-color: #FFFFFF;\n",
              "      --disabled-bg-color: #3B4455;\n",
              "      --disabled-fill-color: #666;\n",
              "  }\n",
              "\n",
              "  .colab-df-quickchart {\n",
              "    background-color: var(--bg-color);\n",
              "    border: none;\n",
              "    border-radius: 50%;\n",
              "    cursor: pointer;\n",
              "    display: none;\n",
              "    fill: var(--fill-color);\n",
              "    height: 32px;\n",
              "    padding: 0;\n",
              "    width: 32px;\n",
              "  }\n",
              "\n",
              "  .colab-df-quickchart:hover {\n",
              "    background-color: var(--hover-bg-color);\n",
              "    box-shadow: 0 1px 2px rgba(60, 64, 67, 0.3), 0 1px 3px 1px rgba(60, 64, 67, 0.15);\n",
              "    fill: var(--button-hover-fill-color);\n",
              "  }\n",
              "\n",
              "  .colab-df-quickchart-complete:disabled,\n",
              "  .colab-df-quickchart-complete:disabled:hover {\n",
              "    background-color: var(--disabled-bg-color);\n",
              "    fill: var(--disabled-fill-color);\n",
              "    box-shadow: none;\n",
              "  }\n",
              "\n",
              "  .colab-df-spinner {\n",
              "    border: 2px solid var(--fill-color);\n",
              "    border-color: transparent;\n",
              "    border-bottom-color: var(--fill-color);\n",
              "    animation:\n",
              "      spin 1s steps(1) infinite;\n",
              "  }\n",
              "\n",
              "  @keyframes spin {\n",
              "    0% {\n",
              "      border-color: transparent;\n",
              "      border-bottom-color: var(--fill-color);\n",
              "      border-left-color: var(--fill-color);\n",
              "    }\n",
              "    20% {\n",
              "      border-color: transparent;\n",
              "      border-left-color: var(--fill-color);\n",
              "      border-top-color: var(--fill-color);\n",
              "    }\n",
              "    30% {\n",
              "      border-color: transparent;\n",
              "      border-left-color: var(--fill-color);\n",
              "      border-top-color: var(--fill-color);\n",
              "      border-right-color: var(--fill-color);\n",
              "    }\n",
              "    40% {\n",
              "      border-color: transparent;\n",
              "      border-right-color: var(--fill-color);\n",
              "      border-top-color: var(--fill-color);\n",
              "    }\n",
              "    60% {\n",
              "      border-color: transparent;\n",
              "      border-right-color: var(--fill-color);\n",
              "    }\n",
              "    80% {\n",
              "      border-color: transparent;\n",
              "      border-right-color: var(--fill-color);\n",
              "      border-bottom-color: var(--fill-color);\n",
              "    }\n",
              "    90% {\n",
              "      border-color: transparent;\n",
              "      border-bottom-color: var(--fill-color);\n",
              "    }\n",
              "  }\n",
              "</style>\n",
              "\n",
              "  <script>\n",
              "    async function quickchart(key) {\n",
              "      const quickchartButtonEl =\n",
              "        document.querySelector('#' + key + ' button');\n",
              "      quickchartButtonEl.disabled = true;  // To prevent multiple clicks.\n",
              "      quickchartButtonEl.classList.add('colab-df-spinner');\n",
              "      try {\n",
              "        const charts = await google.colab.kernel.invokeFunction(\n",
              "            'suggestCharts', [key], {});\n",
              "      } catch (error) {\n",
              "        console.error('Error during call to suggestCharts:', error);\n",
              "      }\n",
              "      quickchartButtonEl.classList.remove('colab-df-spinner');\n",
              "      quickchartButtonEl.classList.add('colab-df-quickchart-complete');\n",
              "    }\n",
              "    (() => {\n",
              "      let quickchartButtonEl =\n",
              "        document.querySelector('#df-62e7cd39-aefe-4120-8537-0db72adee557 button');\n",
              "      quickchartButtonEl.style.display =\n",
              "        google.colab.kernel.accessAllowed ? 'block' : 'none';\n",
              "    })();\n",
              "  </script>\n",
              "</div>\n",
              "\n",
              "    </div>\n",
              "  </div>\n"
            ],
            "application/vnd.google.colaboratory.intrinsic+json": {
              "type": "dataframe",
              "summary": "{\n  \"name\": \"housing_clean\",\n  \"rows\": 8,\n  \"fields\": [\n    {\n      \"column\": \"PRICE\",\n      \"properties\": {\n        \"dtype\": \"number\",\n        \"std\": 22560413.67512025,\n        \"min\": 3067.0,\n        \"max\": 65000000.0,\n        \"num_unique_values\": 8,\n        \"samples\": [\n          1955427.3475709162,\n          845000.0,\n          3067.0\n        ],\n        \"semantic_type\": \"\",\n        \"description\": \"\"\n      }\n    },\n    {\n      \"column\": \"BEDS\",\n      \"properties\": {\n        \"dtype\": \"number\",\n        \"std\": 1081.1311162651905,\n        \"min\": 1.0,\n        \"max\": 3067.0,\n        \"num_unique_values\": 8,\n        \"samples\": [\n          3.4010433648516467,\n          3.0,\n          3067.0\n        ],\n        \"semantic_type\": \"\",\n        \"description\": \"\"\n      }\n    },\n    {\n      \"column\": \"BATH\",\n      \"properties\": {\n        \"dtype\": \"number\",\n        \"std\": 1081.427207275666,\n        \"min\": 0.0,\n        \"max\": 3067.0,\n        \"num_unique_values\": 8,\n        \"samples\": [\n          2.3929149056273276,\n          2.0,\n          3067.0\n        ],\n        \"semantic_type\": \"\",\n        \"description\": \"\"\n      }\n    },\n    {\n      \"column\": \"PROPERTYSQFT\",\n      \"properties\": {\n        \"dtype\": \"number\",\n        \"std\": 22505.83552853994,\n        \"min\": 250.0,\n        \"max\": 65535.0,\n        \"num_unique_values\": 7,\n        \"samples\": [\n          3067.0,\n          2202.6580460065206,\n          2184.207862\n        ],\n        \"semantic_type\": \"\",\n        \"description\": \"\"\n      }\n    }\n  ]\n}"
            }
          },
          "metadata": {},
          "execution_count": 29
        }
      ]
    },
    {
      "cell_type": "markdown",
      "source": [
        "That no bathroom property is going to cause an issue transforming, so I'm going to remove it, too."
      ],
      "metadata": {
        "id": "ysZS5fY_lrxK"
      }
    },
    {
      "cell_type": "code",
      "source": [
        "housing_clean.shape"
      ],
      "metadata": {
        "id": "9jScNZ3SbM1p",
        "outputId": "06c18ddf-1376-4ffa-df52-f5bdfb58af1a",
        "colab": {
          "base_uri": "https://localhost:8080/"
        }
      },
      "execution_count": 30,
      "outputs": [
        {
          "output_type": "execute_result",
          "data": {
            "text/plain": [
              "(3067, 4)"
            ]
          },
          "metadata": {},
          "execution_count": 30
        }
      ]
    },
    {
      "cell_type": "markdown",
      "source": [
        "#Step 2: Prepare the Data\n",
        "Once the data is cleaned, I need to process it so I can run various supervised models on it."
      ],
      "metadata": {
        "id": "mbfSh4-nR021"
      }
    },
    {
      "cell_type": "code",
      "source": [
        "#Import pipeline\n",
        "from sklearn.pipeline import Pipeline, make_pipeline\n",
        "from sklearn.impute import SimpleImputer\n",
        "from sklearn.preprocessing import StandardScaler\n",
        "from sklearn.preprocessing import FunctionTransformer\n",
        "from sklearn.compose import ColumnTransformer\n",
        "\n",
        "log_pipeline = make_pipeline(SimpleImputer(missing_values= np.nan, strategy=\"median\"),\n",
        "                             FunctionTransformer(np.log,feature_names_out=\"one-to-one\"),\n",
        "                             StandardScaler())\n",
        "num_pipeline = make_pipeline(SimpleImputer(strategy=\"median\"))\n",
        "\n",
        "preprocessing = ColumnTransformer([\n",
        "    (\"log\", log_pipeline, [\"BEDS\",\"PROPERTYSQFT\"]),\n",
        "    (\"std\", num_pipeline, [\"PRICE\", \"BATH\"])\n",
        "])"
      ],
      "metadata": {
        "id": "dxQZDaMK6FZd"
      },
      "execution_count": 35,
      "outputs": []
    },
    {
      "cell_type": "code",
      "source": [
        "#Prepare the data\n",
        "housing_prepared = preprocessing.fit_transform(housing_clean)\n",
        "housing_prepared.shape"
      ],
      "metadata": {
        "id": "pJrtcYp0MzaH",
        "outputId": "3f379228-1ad8-47da-9de7-86585d811420",
        "colab": {
          "base_uri": "https://localhost:8080/"
        }
      },
      "execution_count": 38,
      "outputs": [
        {
          "output_type": "execute_result",
          "data": {
            "text/plain": [
              "(3067, 4)"
            ]
          },
          "metadata": {},
          "execution_count": 38
        }
      ]
    },
    {
      "cell_type": "markdown",
      "source": [
        "#Step 3: Examine the Target Attribute\n",
        "The TYPE field is my target attribute"
      ],
      "metadata": {
        "id": "Zo4tpZBCYI5y"
      }
    },
    {
      "cell_type": "code",
      "source": [
        "import seaborn as sb\n",
        "\n",
        "#Examine the distribution of the categories\n",
        "sb.barplot(data = label_train_clean, x=\"TYPE\")"
      ],
      "metadata": {
        "id": "k5kF6phpgFlJ",
        "outputId": "2bd96baa-e2f3-4530-ed7d-37c2f04067da",
        "colab": {
          "base_uri": "https://localhost:8080/",
          "height": 321
        }
      },
      "execution_count": 44,
      "outputs": [
        {
          "output_type": "error",
          "ename": "TypeError",
          "evalue": "Data source must be a DataFrame or Mapping, not <class 'pandas.core.series.Series'>.",
          "traceback": [
            "\u001b[0;31m---------------------------------------------------------------------------\u001b[0m",
            "\u001b[0;31mTypeError\u001b[0m                                 Traceback (most recent call last)",
            "\u001b[0;32m<ipython-input-44-ec4ca7904334>\u001b[0m in \u001b[0;36m<cell line: 4>\u001b[0;34m()\u001b[0m\n\u001b[1;32m      2\u001b[0m \u001b[0;34m\u001b[0m\u001b[0m\n\u001b[1;32m      3\u001b[0m \u001b[0;31m#Examine the distribution of the categories\u001b[0m\u001b[0;34m\u001b[0m\u001b[0;34m\u001b[0m\u001b[0m\n\u001b[0;32m----> 4\u001b[0;31m \u001b[0msb\u001b[0m\u001b[0;34m.\u001b[0m\u001b[0mbarplot\u001b[0m\u001b[0;34m(\u001b[0m\u001b[0mdata\u001b[0m \u001b[0;34m=\u001b[0m \u001b[0mlabel_train_clean\u001b[0m\u001b[0;34m,\u001b[0m \u001b[0mx\u001b[0m\u001b[0;34m=\u001b[0m\u001b[0;34m\"TYPE\"\u001b[0m\u001b[0;34m)\u001b[0m\u001b[0;34m\u001b[0m\u001b[0;34m\u001b[0m\u001b[0m\n\u001b[0m",
            "\u001b[0;32m/usr/local/lib/python3.10/dist-packages/seaborn/categorical.py\u001b[0m in \u001b[0;36mbarplot\u001b[0;34m(data, x, y, hue, order, hue_order, estimator, errorbar, n_boot, seed, units, weights, orient, color, palette, saturation, fill, hue_norm, width, dodge, gap, log_scale, native_scale, formatter, legend, capsize, err_kws, ci, errcolor, errwidth, ax, **kwargs)\u001b[0m\n\u001b[1;32m   2338\u001b[0m         \u001b[0mestimator\u001b[0m \u001b[0;34m=\u001b[0m \u001b[0;34m\"size\"\u001b[0m\u001b[0;34m\u001b[0m\u001b[0;34m\u001b[0m\u001b[0m\n\u001b[1;32m   2339\u001b[0m \u001b[0;34m\u001b[0m\u001b[0m\n\u001b[0;32m-> 2340\u001b[0;31m     p = _CategoricalAggPlotter(\n\u001b[0m\u001b[1;32m   2341\u001b[0m         \u001b[0mdata\u001b[0m\u001b[0;34m=\u001b[0m\u001b[0mdata\u001b[0m\u001b[0;34m,\u001b[0m\u001b[0;34m\u001b[0m\u001b[0;34m\u001b[0m\u001b[0m\n\u001b[1;32m   2342\u001b[0m         \u001b[0mvariables\u001b[0m\u001b[0;34m=\u001b[0m\u001b[0mdict\u001b[0m\u001b[0;34m(\u001b[0m\u001b[0mx\u001b[0m\u001b[0;34m=\u001b[0m\u001b[0mx\u001b[0m\u001b[0;34m,\u001b[0m \u001b[0my\u001b[0m\u001b[0;34m=\u001b[0m\u001b[0my\u001b[0m\u001b[0;34m,\u001b[0m \u001b[0mhue\u001b[0m\u001b[0;34m=\u001b[0m\u001b[0mhue\u001b[0m\u001b[0;34m,\u001b[0m \u001b[0munits\u001b[0m\u001b[0;34m=\u001b[0m\u001b[0munits\u001b[0m\u001b[0;34m,\u001b[0m \u001b[0mweight\u001b[0m\u001b[0;34m=\u001b[0m\u001b[0mweights\u001b[0m\u001b[0;34m)\u001b[0m\u001b[0;34m,\u001b[0m\u001b[0;34m\u001b[0m\u001b[0;34m\u001b[0m\u001b[0m\n",
            "\u001b[0;32m/usr/local/lib/python3.10/dist-packages/seaborn/categorical.py\u001b[0m in \u001b[0;36m__init__\u001b[0;34m(self, data, variables, order, orient, require_numeric, color, legend)\u001b[0m\n\u001b[1;32m     64\u001b[0m     ):\n\u001b[1;32m     65\u001b[0m \u001b[0;34m\u001b[0m\u001b[0m\n\u001b[0;32m---> 66\u001b[0;31m         \u001b[0msuper\u001b[0m\u001b[0;34m(\u001b[0m\u001b[0;34m)\u001b[0m\u001b[0;34m.\u001b[0m\u001b[0m__init__\u001b[0m\u001b[0;34m(\u001b[0m\u001b[0mdata\u001b[0m\u001b[0;34m=\u001b[0m\u001b[0mdata\u001b[0m\u001b[0;34m,\u001b[0m \u001b[0mvariables\u001b[0m\u001b[0;34m=\u001b[0m\u001b[0mvariables\u001b[0m\u001b[0;34m)\u001b[0m\u001b[0;34m\u001b[0m\u001b[0;34m\u001b[0m\u001b[0m\n\u001b[0m\u001b[1;32m     67\u001b[0m \u001b[0;34m\u001b[0m\u001b[0m\n\u001b[1;32m     68\u001b[0m         \u001b[0;31m# This method takes care of some bookkeeping that is necessary because the\u001b[0m\u001b[0;34m\u001b[0m\u001b[0;34m\u001b[0m\u001b[0m\n",
            "\u001b[0;32m/usr/local/lib/python3.10/dist-packages/seaborn/_base.py\u001b[0m in \u001b[0;36m__init__\u001b[0;34m(self, data, variables)\u001b[0m\n\u001b[1;32m    632\u001b[0m         \u001b[0;31m# information for numeric axes would be information about log scales.\u001b[0m\u001b[0;34m\u001b[0m\u001b[0;34m\u001b[0m\u001b[0m\n\u001b[1;32m    633\u001b[0m         \u001b[0mself\u001b[0m\u001b[0;34m.\u001b[0m\u001b[0m_var_ordered\u001b[0m \u001b[0;34m=\u001b[0m \u001b[0;34m{\u001b[0m\u001b[0;34m\"x\"\u001b[0m\u001b[0;34m:\u001b[0m \u001b[0;32mFalse\u001b[0m\u001b[0;34m,\u001b[0m \u001b[0;34m\"y\"\u001b[0m\u001b[0;34m:\u001b[0m \u001b[0;32mFalse\u001b[0m\u001b[0;34m}\u001b[0m  \u001b[0;31m# alt., used DefaultDict\u001b[0m\u001b[0;34m\u001b[0m\u001b[0;34m\u001b[0m\u001b[0m\n\u001b[0;32m--> 634\u001b[0;31m         \u001b[0mself\u001b[0m\u001b[0;34m.\u001b[0m\u001b[0massign_variables\u001b[0m\u001b[0;34m(\u001b[0m\u001b[0mdata\u001b[0m\u001b[0;34m,\u001b[0m \u001b[0mvariables\u001b[0m\u001b[0;34m)\u001b[0m\u001b[0;34m\u001b[0m\u001b[0;34m\u001b[0m\u001b[0m\n\u001b[0m\u001b[1;32m    635\u001b[0m \u001b[0;34m\u001b[0m\u001b[0m\n\u001b[1;32m    636\u001b[0m         \u001b[0;31m# TODO Lots of tests assume that these are called to initialize the\u001b[0m\u001b[0;34m\u001b[0m\u001b[0;34m\u001b[0m\u001b[0m\n",
            "\u001b[0;32m/usr/local/lib/python3.10/dist-packages/seaborn/_base.py\u001b[0m in \u001b[0;36massign_variables\u001b[0;34m(self, data, variables)\u001b[0m\n\u001b[1;32m    677\u001b[0m             \u001b[0;31m# to centralize / standardize data consumption logic.\u001b[0m\u001b[0;34m\u001b[0m\u001b[0;34m\u001b[0m\u001b[0m\n\u001b[1;32m    678\u001b[0m             \u001b[0mself\u001b[0m\u001b[0;34m.\u001b[0m\u001b[0minput_format\u001b[0m \u001b[0;34m=\u001b[0m \u001b[0;34m\"long\"\u001b[0m\u001b[0;34m\u001b[0m\u001b[0;34m\u001b[0m\u001b[0m\n\u001b[0;32m--> 679\u001b[0;31m             \u001b[0mplot_data\u001b[0m \u001b[0;34m=\u001b[0m \u001b[0mPlotData\u001b[0m\u001b[0;34m(\u001b[0m\u001b[0mdata\u001b[0m\u001b[0;34m,\u001b[0m \u001b[0mvariables\u001b[0m\u001b[0;34m)\u001b[0m\u001b[0;34m\u001b[0m\u001b[0;34m\u001b[0m\u001b[0m\n\u001b[0m\u001b[1;32m    680\u001b[0m             \u001b[0mframe\u001b[0m \u001b[0;34m=\u001b[0m \u001b[0mplot_data\u001b[0m\u001b[0;34m.\u001b[0m\u001b[0mframe\u001b[0m\u001b[0;34m\u001b[0m\u001b[0;34m\u001b[0m\u001b[0m\n\u001b[1;32m    681\u001b[0m             \u001b[0mnames\u001b[0m \u001b[0;34m=\u001b[0m \u001b[0mplot_data\u001b[0m\u001b[0;34m.\u001b[0m\u001b[0mnames\u001b[0m\u001b[0;34m\u001b[0m\u001b[0;34m\u001b[0m\u001b[0m\n",
            "\u001b[0;32m/usr/local/lib/python3.10/dist-packages/seaborn/_core/data.py\u001b[0m in \u001b[0;36m__init__\u001b[0;34m(self, data, variables)\u001b[0m\n\u001b[1;32m     55\u001b[0m     ):\n\u001b[1;32m     56\u001b[0m \u001b[0;34m\u001b[0m\u001b[0m\n\u001b[0;32m---> 57\u001b[0;31m         \u001b[0mdata\u001b[0m \u001b[0;34m=\u001b[0m \u001b[0mhandle_data_source\u001b[0m\u001b[0;34m(\u001b[0m\u001b[0mdata\u001b[0m\u001b[0;34m)\u001b[0m\u001b[0;34m\u001b[0m\u001b[0;34m\u001b[0m\u001b[0m\n\u001b[0m\u001b[1;32m     58\u001b[0m         \u001b[0mframe\u001b[0m\u001b[0;34m,\u001b[0m \u001b[0mnames\u001b[0m\u001b[0;34m,\u001b[0m \u001b[0mids\u001b[0m \u001b[0;34m=\u001b[0m \u001b[0mself\u001b[0m\u001b[0;34m.\u001b[0m\u001b[0m_assign_variables\u001b[0m\u001b[0;34m(\u001b[0m\u001b[0mdata\u001b[0m\u001b[0;34m,\u001b[0m \u001b[0mvariables\u001b[0m\u001b[0;34m)\u001b[0m\u001b[0;34m\u001b[0m\u001b[0;34m\u001b[0m\u001b[0m\n\u001b[1;32m     59\u001b[0m \u001b[0;34m\u001b[0m\u001b[0m\n",
            "\u001b[0;32m/usr/local/lib/python3.10/dist-packages/seaborn/_core/data.py\u001b[0m in \u001b[0;36mhandle_data_source\u001b[0;34m(data)\u001b[0m\n\u001b[1;32m    276\u001b[0m     \u001b[0;32melif\u001b[0m \u001b[0mdata\u001b[0m \u001b[0;32mis\u001b[0m \u001b[0;32mnot\u001b[0m \u001b[0;32mNone\u001b[0m \u001b[0;32mand\u001b[0m \u001b[0;32mnot\u001b[0m \u001b[0misinstance\u001b[0m\u001b[0;34m(\u001b[0m\u001b[0mdata\u001b[0m\u001b[0;34m,\u001b[0m \u001b[0mMapping\u001b[0m\u001b[0;34m)\u001b[0m\u001b[0;34m:\u001b[0m\u001b[0;34m\u001b[0m\u001b[0;34m\u001b[0m\u001b[0m\n\u001b[1;32m    277\u001b[0m         \u001b[0merr\u001b[0m \u001b[0;34m=\u001b[0m \u001b[0;34mf\"Data source must be a DataFrame or Mapping, not {type(data)!r}.\"\u001b[0m\u001b[0;34m\u001b[0m\u001b[0;34m\u001b[0m\u001b[0m\n\u001b[0;32m--> 278\u001b[0;31m         \u001b[0;32mraise\u001b[0m \u001b[0mTypeError\u001b[0m\u001b[0;34m(\u001b[0m\u001b[0merr\u001b[0m\u001b[0;34m)\u001b[0m\u001b[0;34m\u001b[0m\u001b[0;34m\u001b[0m\u001b[0m\n\u001b[0m\u001b[1;32m    279\u001b[0m \u001b[0;34m\u001b[0m\u001b[0m\n\u001b[1;32m    280\u001b[0m     \u001b[0;32mreturn\u001b[0m \u001b[0mdata\u001b[0m\u001b[0;34m\u001b[0m\u001b[0;34m\u001b[0m\u001b[0m\n",
            "\u001b[0;31mTypeError\u001b[0m: Data source must be a DataFrame or Mapping, not <class 'pandas.core.series.Series'>."
          ]
        }
      ]
    },
    {
      "cell_type": "markdown",
      "source": [
        "#Step 4: Select Classifier Models\n",
        "\n",
        "Since I'm trying to predict a categorical label — the type of property — I'm only assessing classifier models for this project. I'm going to try K-Nearest Neighbors and the Decision Tree classifiers"
      ],
      "metadata": {
        "id": "lC3qzwZnT2u5"
      }
    },
    {
      "cell_type": "code",
      "source": [
        "#import models\n",
        "from sklearn.neighbors import KNeighborsClassifier\n",
        "from sklearn.tree import DecisionTreeClassifier\n",
        "from sklearn import model_selection\n",
        "\n"
      ],
      "metadata": {
        "id": "ZgPFKhZXFQW9"
      },
      "execution_count": 45,
      "outputs": []
    },
    {
      "cell_type": "markdown",
      "source": [
        "#Step 5: Run and Assess the Models\n",
        "Three components here:\n",
        "\n",
        "1.   Run with the defaults\n",
        "2.   Run again and use cross-validation\n",
        "3.   Adjust parameters for the model(s) using grid search\n",
        "\n",
        "\n"
      ],
      "metadata": {
        "id": "VkniFpawZAfp"
      }
    },
    {
      "cell_type": "code",
      "source": [
        "#Set the training data to values\n",
        "X_train = housing_prepared\n"
      ],
      "metadata": {
        "id": "gYX2sI0UZUOp"
      },
      "execution_count": 54,
      "outputs": []
    },
    {
      "cell_type": "code",
      "source": [
        "#Run K-Neighbors with defaults\n",
        "knn = KNeighborsClassifier(n_neighbors=3)\n",
        "knn.fit(X train, label_train_clean)\n",
        "housing_predict = knn.predict(h_test_subset.values)\n",
        "\n"
      ],
      "metadata": {
        "id": "hTSoNGNcDWtd",
        "outputId": "438b55d4-9d76-4fed-f619-1928829c930b",
        "colab": {
          "base_uri": "https://localhost:8080/",
          "height": 193
        }
      },
      "execution_count": 52,
      "outputs": [
        {
          "output_type": "error",
          "ename": "AttributeError",
          "evalue": "'numpy.ndarray' object has no attribute 'values'",
          "traceback": [
            "\u001b[0;31m---------------------------------------------------------------------------\u001b[0m",
            "\u001b[0;31mAttributeError\u001b[0m                            Traceback (most recent call last)",
            "\u001b[0;32m<ipython-input-52-f99a0adfdf2f>\u001b[0m in \u001b[0;36m<cell line: 3>\u001b[0;34m()\u001b[0m\n\u001b[1;32m      1\u001b[0m \u001b[0;31m#Run K-Neighbors with defaults\u001b[0m\u001b[0;34m\u001b[0m\u001b[0;34m\u001b[0m\u001b[0m\n\u001b[1;32m      2\u001b[0m \u001b[0mknn\u001b[0m \u001b[0;34m=\u001b[0m \u001b[0mKNeighborsClassifier\u001b[0m\u001b[0;34m(\u001b[0m\u001b[0mn_neighbors\u001b[0m\u001b[0;34m=\u001b[0m\u001b[0;36m3\u001b[0m\u001b[0;34m)\u001b[0m\u001b[0;34m\u001b[0m\u001b[0;34m\u001b[0m\u001b[0m\n\u001b[0;32m----> 3\u001b[0;31m \u001b[0mknn\u001b[0m\u001b[0;34m.\u001b[0m\u001b[0mfit\u001b[0m\u001b[0;34m(\u001b[0m\u001b[0mhousing_prepared\u001b[0m\u001b[0;34m.\u001b[0m\u001b[0mvalues\u001b[0m\u001b[0;34m,\u001b[0m \u001b[0mlabel_train_clean\u001b[0m\u001b[0;34m)\u001b[0m\u001b[0;34m\u001b[0m\u001b[0;34m\u001b[0m\u001b[0m\n\u001b[0m\u001b[1;32m      4\u001b[0m \u001b[0mhousing_predict\u001b[0m \u001b[0;34m=\u001b[0m \u001b[0mknn\u001b[0m\u001b[0;34m.\u001b[0m\u001b[0mpredict\u001b[0m\u001b[0;34m(\u001b[0m\u001b[0mh_test_subset\u001b[0m\u001b[0;34m.\u001b[0m\u001b[0mvalues\u001b[0m\u001b[0;34m)\u001b[0m\u001b[0;34m\u001b[0m\u001b[0;34m\u001b[0m\u001b[0m\n",
            "\u001b[0;31mAttributeError\u001b[0m: 'numpy.ndarray' object has no attribute 'values'"
          ]
        }
      ]
    },
    {
      "cell_type": "code",
      "source": [
        "from sklearn.metrics import precision_score\n",
        "precision_score(y2_test, y2_pred, average=None)\n",
        "\n",
        "from sklearn.metrics import recall_score\n",
        "recall_score(y2_test, y2_pred, average=None)\n",
        "\n",
        "from sklearn.metrics import f1_score\n",
        "\n",
        "# Calculate metrics globally by counting the total true positives, false negatives and false positives.\n",
        "print(f1_score(y2_test, y2_pred, average='micro'))\n",
        "# Calculate metrics for each label, and find their unweighted mean. This does not take label imbalance into account.\n",
        "print(f1_score(y2_test, y2_pred, average='macro'))\n",
        "# Calculate metrics for each label, and find their average weighted by support (the number of true instances for each label). This alters ‘macro’ to account for label imbalance; it can result in an F-score that is not between precision and recall.\n",
        "print(f1_score(y2_test, y2_pred, average='weighted'))\n",
        "\n",
        "# Class-wise, no averaging\n",
        "print(f1_score(y2_test, y2_pred, average=None))"
      ],
      "metadata": {
        "id": "n5Kulbnhwqoq"
      },
      "execution_count": null,
      "outputs": []
    },
    {
      "cell_type": "code",
      "source": [
        "#Run DecisionTree with defaults\n",
        "tree = DecisionTreeClassifier()\n",
        "tree.fit(housing_prepared, label_train_clean)\n",
        "tree.predict(h_test_subset)"
      ],
      "metadata": {
        "id": "adm5IQQ2DvtN"
      },
      "execution_count": null,
      "outputs": []
    }
  ]
}
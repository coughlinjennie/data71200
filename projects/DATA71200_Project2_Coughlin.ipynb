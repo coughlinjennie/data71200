{
  "nbformat": 4,
  "nbformat_minor": 0,
  "metadata": {
    "colab": {
      "provenance": [],
      "authorship_tag": "ABX9TyP8Gg1imX5R7Exzp5irjb8A",
      "include_colab_link": true
    },
    "kernelspec": {
      "name": "python3",
      "display_name": "Python 3"
    },
    "language_info": {
      "name": "python"
    }
  },
  "cells": [
    {
      "cell_type": "markdown",
      "metadata": {
        "id": "view-in-github",
        "colab_type": "text"
      },
      "source": [
        "<a href=\"https://colab.research.google.com/github/coughlinjennie/data71200/blob/main/projects/DATA71200_Project2_Coughlin.ipynb\" target=\"_parent\"><img src=\"https://colab.research.google.com/assets/colab-badge.svg\" alt=\"Open In Colab\"/></a>"
      ]
    },
    {
      "cell_type": "markdown",
      "source": [
        "#Supervised Learning\n",
        "Because the field I want to use for labels is categorical — the property type — I'm using classifier models for this portion of the project. SVM, Gaussian naive Bayes, decision tree and KNN are the ones I'm considering.  \n"
      ],
      "metadata": {
        "id": "DkCjHTBbK8qW"
      }
    },
    {
      "cell_type": "code",
      "execution_count": 1,
      "metadata": {
        "id": "5uLCRS45A6-O",
        "colab": {
          "base_uri": "https://localhost:8080/"
        },
        "outputId": "f5371709-2df0-48af-ec7e-2c825e11c12a"
      },
      "outputs": [
        {
          "output_type": "stream",
          "name": "stdout",
          "text": [
            "Collecting scikit-learn==1.4\n",
            "  Downloading scikit_learn-1.4.0-1-cp310-cp310-manylinux_2_17_x86_64.manylinux2014_x86_64.whl (12.1 MB)\n",
            "\u001b[2K     \u001b[90m━━━━━━━━━━━━━━━━━━━━━━━━━━━━━━━━━━━━━━━━\u001b[0m \u001b[32m12.1/12.1 MB\u001b[0m \u001b[31m27.4 MB/s\u001b[0m eta \u001b[36m0:00:00\u001b[0m\n",
            "\u001b[?25hRequirement already satisfied: numpy<2.0,>=1.19.5 in /usr/local/lib/python3.10/dist-packages (from scikit-learn==1.4) (1.25.2)\n",
            "Requirement already satisfied: scipy>=1.6.0 in /usr/local/lib/python3.10/dist-packages (from scikit-learn==1.4) (1.11.4)\n",
            "Requirement already satisfied: joblib>=1.2.0 in /usr/local/lib/python3.10/dist-packages (from scikit-learn==1.4) (1.4.2)\n",
            "Requirement already satisfied: threadpoolctl>=2.0.0 in /usr/local/lib/python3.10/dist-packages (from scikit-learn==1.4) (3.5.0)\n",
            "Installing collected packages: scikit-learn\n",
            "  Attempting uninstall: scikit-learn\n",
            "    Found existing installation: scikit-learn 1.2.2\n",
            "    Uninstalling scikit-learn-1.2.2:\n",
            "      Successfully uninstalled scikit-learn-1.2.2\n",
            "Successfully installed scikit-learn-1.4.0\n"
          ]
        }
      ],
      "source": [
        "#Import the libraries and install scikit-learn\n",
        "import numpy as np\n",
        "import pandas as pd\n",
        "from pandas.plotting import scatter_matrix\n",
        "import requests\n",
        "import io\n",
        "\n",
        "!pip install -U scikit-learn==1.4"
      ]
    },
    {
      "cell_type": "markdown",
      "source": [
        "#Step 1: Import, split and clean the data\n",
        "This is brought over from Project 1, with a fix to stratify when I split the data and a data pipeline for cleaning the data now that I know what needs to be done."
      ],
      "metadata": {
        "id": "V6JEzCy3hv_c"
      }
    },
    {
      "cell_type": "code",
      "source": [
        "#Import the data, sourced from Kaggle and stored in my GitHub\n",
        "url = \"https://raw.githubusercontent.com/coughlinjennie/data71200/main/projects/nyhousing.csv\" # Make sure the url is the raw version of the file on GitHub\n",
        "download = requests.get(url).content\n",
        "#Load the data\n",
        "\n",
        "housing_master = pd.read_csv(io.StringIO(download.decode('utf-8')))"
      ],
      "metadata": {
        "id": "KaG3MPrpBOMp"
      },
      "execution_count": 2,
      "outputs": []
    },
    {
      "cell_type": "code",
      "source": [
        "housing_master[\"TYPE\"].value_counts()"
      ],
      "metadata": {
        "id": "a1KXV2keAAcF",
        "outputId": "4c481a0f-a6b4-4d5e-c790-dfb7b127781f",
        "colab": {
          "base_uri": "https://localhost:8080/"
        }
      },
      "execution_count": 14,
      "outputs": [
        {
          "output_type": "execute_result",
          "data": {
            "text/plain": [
              "TYPE\n",
              "Co-op for sale                1450\n",
              "House for sale                1012\n",
              "Condo for sale                 891\n",
              "Multi-family home for sale     727\n",
              "Townhouse for sale             299\n",
              "Pending                        243\n",
              "Contingent                      88\n",
              "Land for sale                   49\n",
              "For sale                        20\n",
              "Foreclosure                     14\n",
              "Condop for sale                  5\n",
              "Coming Soon                      2\n",
              "Mobile house for sale            1\n",
              "Name: count, dtype: int64"
            ]
          },
          "metadata": {},
          "execution_count": 14
        }
      ]
    },
    {
      "cell_type": "markdown",
      "source": [
        "I need to stratify the data when I split it, and the two values in this field that will interfere with that are ones I was going to drop anyway because they're not relevant for this model. (The TYPE field is showing the status of the property, but I'm using only the labels that indicate the property type and exclude the others, plus a couple that aren't super-relevant in New York.) We're not supposed to clean data until after we split it, but I can't figure out how to stratify the data for the split without doing this one step, so I'm going to do it anyway."
      ],
      "metadata": {
        "id": "41o33dCLAP-x"
      }
    },
    {
      "cell_type": "code",
      "source": [
        "# Delete all rows where column 'TYPE' has certain values\n",
        "indexType = housing_master[ (housing_master['TYPE'] == \"For sale\") | (housing_master['TYPE'] == \"Contingent\") | (housing_master['TYPE'] == \"Land for sale\") | (housing_master['TYPE'] == \"Foreclosure\") | (housing_master['TYPE'] == \"Pending\") | (housing_master['TYPE'] == \"Coming Soon\") | (housing_master['TYPE'] == \"Mobile house for sale\") ].index\n",
        "housing_master.drop(indexType , inplace=True)"
      ],
      "metadata": {
        "id": "fe-UPRdJ7iZq"
      },
      "execution_count": 21,
      "outputs": []
    },
    {
      "cell_type": "code",
      "source": [
        "housing_master[\"TYPE\"].value_counts()"
      ],
      "metadata": {
        "id": "uCTI992rFMfh",
        "outputId": "3c3b44f5-ee67-460f-ab28-316c3ee1a114",
        "colab": {
          "base_uri": "https://localhost:8080/"
        }
      },
      "execution_count": 22,
      "outputs": [
        {
          "output_type": "execute_result",
          "data": {
            "text/plain": [
              "TYPE\n",
              "Co-op for sale                1450\n",
              "House for sale                1012\n",
              "Condo for sale                 891\n",
              "Multi-family home for sale     727\n",
              "Townhouse for sale             299\n",
              "Condop for sale                  5\n",
              "Name: count, dtype: int64"
            ]
          },
          "metadata": {},
          "execution_count": 22
        }
      ]
    },
    {
      "cell_type": "code",
      "source": [
        "#Set the labels on TYPE\n",
        "\n",
        "housing_label = housing_master[\"TYPE\"]\n",
        "\n",
        "#Set the data\n",
        "housing = housing_master.drop(\"TYPE\", axis=1)\n",
        "print(housing)"
      ],
      "metadata": {
        "id": "hnzwjisWB-Wy",
        "outputId": "19493aa8-38d9-4f50-a223-4242dad81e91",
        "colab": {
          "base_uri": "https://localhost:8080/"
        }
      },
      "execution_count": 23,
      "outputs": [
        {
          "output_type": "stream",
          "name": "stdout",
          "text": [
            "                                            BROKERTITLE      PRICE  BEDS  \\\n",
            "0           Brokered by Douglas Elliman  -111 Fifth Ave     315000     2   \n",
            "1                                   Brokered by Serhant  195000000     7   \n",
            "2                                Brokered by Sowae Corp     260000     4   \n",
            "3                                   Brokered by COMPASS      69000     3   \n",
            "4     Brokered by Sotheby's International Realty - E...   55000000     7   \n",
            "...                                                 ...        ...   ...   \n",
            "4796                                Brokered by COMPASS     599000     1   \n",
            "4797                    Brokered by Mjr Real Estate Llc     245000     1   \n",
            "4798      Brokered by Douglas Elliman - 575 Madison Ave    1275000     1   \n",
            "4799            Brokered by E Realty International Corp     598125     2   \n",
            "4800                 Brokered by Nyc Realty Brokers Llc     349000     1   \n",
            "\n",
            "           BATH  PROPERTYSQFT  \\\n",
            "0      2.000000   1400.000000   \n",
            "1     10.000000  17545.000000   \n",
            "2      2.000000   2015.000000   \n",
            "3      1.000000    445.000000   \n",
            "4      2.373861  14175.000000   \n",
            "...         ...           ...   \n",
            "4796   1.000000   2184.207862   \n",
            "4797   1.000000   2184.207862   \n",
            "4798   1.000000   2184.207862   \n",
            "4799   1.000000    655.000000   \n",
            "4800   1.000000    750.000000   \n",
            "\n",
            "                                                ADDRESS  \\\n",
            "0                                  2 E 55th St Unit 803   \n",
            "1     Central Park Tower Penthouse-217 W 57th New Yo...   \n",
            "2                                      620 Sinclair Ave   \n",
            "3                               2 E 55th St Unit 908W33   \n",
            "4                                           5 E 64th St   \n",
            "...                                                 ...   \n",
            "4796                               222 E 80th St Apt 3A   \n",
            "4797                                97-40 62 Dr Unit Lg   \n",
            "4798                          427 W 21st St Unit Garden   \n",
            "4799                           91-23 Corona Ave Unit 4G   \n",
            "4800                            460 Neptune Ave Apt 14O   \n",
            "\n",
            "                        STATE  \\\n",
            "0          New York, NY 10022   \n",
            "1          New York, NY 10019   \n",
            "2     Staten Island, NY 10312   \n",
            "3         Manhattan, NY 10022   \n",
            "4          New York, NY 10065   \n",
            "...                       ...   \n",
            "4796      Manhattan, NY 10075   \n",
            "4797      Rego Park, NY 11374   \n",
            "4798       New York, NY 10011   \n",
            "4799       Elmhurst, NY 11373   \n",
            "4800       Brooklyn, NY 11224   \n",
            "\n",
            "                                           MAIN_ADDRESS  \\\n",
            "0                2 E 55th St Unit 803New York, NY 10022   \n",
            "1     Central Park Tower Penthouse-217 W 57th New Yo...   \n",
            "2               620 Sinclair AveStaten Island, NY 10312   \n",
            "3            2 E 55th St Unit 908W33Manhattan, NY 10022   \n",
            "4                         5 E 64th StNew York, NY 10065   \n",
            "...                                                 ...   \n",
            "4796            222 E 80th St Apt 3AManhattan, NY 10075   \n",
            "4797             97-40 62 Dr Unit LgRego Park, NY 11374   \n",
            "4798        427 W 21st St Unit GardenNew York, NY 10011   \n",
            "4799         91-23 Corona Ave Unit 4GElmhurst, NY 11373   \n",
            "4800          460 Neptune Ave Apt 14OBrooklyn, NY 11224   \n",
            "\n",
            "     ADMINISTRATIVE_AREA_LEVEL_2         LOCALITY      SUBLOCALITY  \\\n",
            "0                New York County         New York        Manhattan   \n",
            "1                  United States         New York  New York County   \n",
            "2                  United States         New York  Richmond County   \n",
            "3                  United States         New York  New York County   \n",
            "4                  United States         New York  New York County   \n",
            "...                          ...              ...              ...   \n",
            "4796                    New York  New York County         New York   \n",
            "4797               United States         New York    Queens County   \n",
            "4798               United States         New York  New York County   \n",
            "4799                    New York    Queens County           Queens   \n",
            "4800                    New York     Kings County         Brooklyn   \n",
            "\n",
            "           STREET_NAME         LONG_NAME  \\\n",
            "0     East 55th Street   Regis Residence   \n",
            "1             New York  West 57th Street   \n",
            "2        Staten Island   Sinclair Avenue   \n",
            "3             New York  East 55th Street   \n",
            "4             New York  East 64th Street   \n",
            "...                ...               ...   \n",
            "4796         Manhattan               222   \n",
            "4797            Queens        62nd Drive   \n",
            "4798          New York  West 21st Street   \n",
            "4799          Flushing             91-23   \n",
            "4800      Coney Island               460   \n",
            "\n",
            "                                      FORMATTED_ADDRESS   LATITUDE  LONGITUDE  \n",
            "0     Regis Residence, 2 E 55th St #803, New York, N...  40.761255 -73.974483  \n",
            "1                217 W 57th St, New York, NY 10019, USA  40.766393 -73.980991  \n",
            "2        620 Sinclair Ave, Staten Island, NY 10312, USA  40.541805 -74.196109  \n",
            "3                  2 E 55th St, New York, NY 10022, USA  40.761398 -73.974613  \n",
            "4                  5 E 64th St, New York, NY 10065, USA  40.767224 -73.969856  \n",
            "...                                                 ...        ...        ...  \n",
            "4796         222 E 80th St #3a, New York, NY 10075, USA  40.774350 -73.955879  \n",
            "4797            97-40 62nd Dr, Rego Park, NY 11374, USA  40.732538 -73.860152  \n",
            "4798             427 W 21st St, New York, NY 10011, USA  40.745882 -74.003398  \n",
            "4799     91-23 Corona Ave. #4b, Flushing, NY 11373, USA  40.742770 -73.872752  \n",
            "4800      460 Neptune Ave #14a, Brooklyn, NY 11224, USA  40.579147 -73.970949  \n",
            "\n",
            "[4384 rows x 16 columns]\n"
          ]
        }
      ]
    },
    {
      "cell_type": "code",
      "source": [
        "#Divide the data into training and testing sets\n",
        "from sklearn.model_selection import train_test_split\n",
        "\n",
        "housing_train, housing_test, housing_label_train, housing_label_test = train_test_split(housing, housing_label, test_size=0.3, stratify=housing_label, random_state=42)\n"
      ],
      "metadata": {
        "id": "fnacdpanBmiU"
      },
      "execution_count": 24,
      "outputs": []
    },
    {
      "cell_type": "code",
      "source": [
        "#Create a column with the ZIP code of the property\n",
        "housing[\"ZIP\"] = housing.MAIN_ADDRESS.str[-5:]"
      ],
      "metadata": {
        "id": "XUybgGVr1wy2"
      },
      "execution_count": 25,
      "outputs": []
    },
    {
      "cell_type": "code",
      "source": [
        "# Create a list of redundant column names to drop\n",
        "to_drop = [\"LONGITUDE\", \"LATITUDE\", \"ADDRESS\", \"ADMINISTRATIVE_AREA_LEVEL_2\", \"LOCALITY\", \"SUBLOCALITY\", \"FORMATTED_ADDRESS\", \"MAIN_ADDRESS\"]\n",
        "\n",
        "# Drop those columns from the dataset\n",
        "housing_subset = housing.drop(to_drop, axis = 1)\n"
      ],
      "metadata": {
        "id": "ERbaQosgtubJ"
      },
      "execution_count": 26,
      "outputs": []
    },
    {
      "cell_type": "code",
      "source": [
        "#Drop all properties values that sold for more than $1B\n",
        "\n",
        "housing_clean = housing_subset[housing_subset['PRICE'] <= 100000000]"
      ],
      "metadata": {
        "id": "yZ0nsEkDByn0"
      },
      "execution_count": 27,
      "outputs": []
    },
    {
      "cell_type": "code",
      "source": [
        "housing_clean.head()"
      ],
      "metadata": {
        "id": "0CHLAvwkGlZT",
        "outputId": "2e4dcb98-26dc-42bb-f9f4-343102790229",
        "colab": {
          "base_uri": "https://localhost:8080/",
          "height": 206
        }
      },
      "execution_count": 28,
      "outputs": [
        {
          "output_type": "execute_result",
          "data": {
            "text/plain": [
              "                                         BROKERTITLE     PRICE  BEDS  \\\n",
              "0        Brokered by Douglas Elliman  -111 Fifth Ave    315000     2   \n",
              "2                             Brokered by Sowae Corp    260000     4   \n",
              "3                                Brokered by COMPASS     69000     3   \n",
              "4  Brokered by Sotheby's International Realty - E...  55000000     7   \n",
              "5                             Brokered by Sowae Corp    690000     5   \n",
              "\n",
              "       BATH  PROPERTYSQFT                    STATE       STREET_NAME  \\\n",
              "0  2.000000        1400.0       New York, NY 10022  East 55th Street   \n",
              "2  2.000000        2015.0  Staten Island, NY 10312     Staten Island   \n",
              "3  1.000000         445.0      Manhattan, NY 10022          New York   \n",
              "4  2.373861       14175.0       New York, NY 10065          New York   \n",
              "5  2.000000        4004.0       Brooklyn, NY 11238          Brooklyn   \n",
              "\n",
              "          LONG_NAME    ZIP  \n",
              "0   Regis Residence  10022  \n",
              "2   Sinclair Avenue  10312  \n",
              "3  East 55th Street  10022  \n",
              "4  East 64th Street  10065  \n",
              "5        Park Place  11238  "
            ],
            "text/html": [
              "\n",
              "  <div id=\"df-4792b7c8-c650-41da-b61c-dbaae7807499\" class=\"colab-df-container\">\n",
              "    <div>\n",
              "<style scoped>\n",
              "    .dataframe tbody tr th:only-of-type {\n",
              "        vertical-align: middle;\n",
              "    }\n",
              "\n",
              "    .dataframe tbody tr th {\n",
              "        vertical-align: top;\n",
              "    }\n",
              "\n",
              "    .dataframe thead th {\n",
              "        text-align: right;\n",
              "    }\n",
              "</style>\n",
              "<table border=\"1\" class=\"dataframe\">\n",
              "  <thead>\n",
              "    <tr style=\"text-align: right;\">\n",
              "      <th></th>\n",
              "      <th>BROKERTITLE</th>\n",
              "      <th>PRICE</th>\n",
              "      <th>BEDS</th>\n",
              "      <th>BATH</th>\n",
              "      <th>PROPERTYSQFT</th>\n",
              "      <th>STATE</th>\n",
              "      <th>STREET_NAME</th>\n",
              "      <th>LONG_NAME</th>\n",
              "      <th>ZIP</th>\n",
              "    </tr>\n",
              "  </thead>\n",
              "  <tbody>\n",
              "    <tr>\n",
              "      <th>0</th>\n",
              "      <td>Brokered by Douglas Elliman  -111 Fifth Ave</td>\n",
              "      <td>315000</td>\n",
              "      <td>2</td>\n",
              "      <td>2.000000</td>\n",
              "      <td>1400.0</td>\n",
              "      <td>New York, NY 10022</td>\n",
              "      <td>East 55th Street</td>\n",
              "      <td>Regis Residence</td>\n",
              "      <td>10022</td>\n",
              "    </tr>\n",
              "    <tr>\n",
              "      <th>2</th>\n",
              "      <td>Brokered by Sowae Corp</td>\n",
              "      <td>260000</td>\n",
              "      <td>4</td>\n",
              "      <td>2.000000</td>\n",
              "      <td>2015.0</td>\n",
              "      <td>Staten Island, NY 10312</td>\n",
              "      <td>Staten Island</td>\n",
              "      <td>Sinclair Avenue</td>\n",
              "      <td>10312</td>\n",
              "    </tr>\n",
              "    <tr>\n",
              "      <th>3</th>\n",
              "      <td>Brokered by COMPASS</td>\n",
              "      <td>69000</td>\n",
              "      <td>3</td>\n",
              "      <td>1.000000</td>\n",
              "      <td>445.0</td>\n",
              "      <td>Manhattan, NY 10022</td>\n",
              "      <td>New York</td>\n",
              "      <td>East 55th Street</td>\n",
              "      <td>10022</td>\n",
              "    </tr>\n",
              "    <tr>\n",
              "      <th>4</th>\n",
              "      <td>Brokered by Sotheby's International Realty - E...</td>\n",
              "      <td>55000000</td>\n",
              "      <td>7</td>\n",
              "      <td>2.373861</td>\n",
              "      <td>14175.0</td>\n",
              "      <td>New York, NY 10065</td>\n",
              "      <td>New York</td>\n",
              "      <td>East 64th Street</td>\n",
              "      <td>10065</td>\n",
              "    </tr>\n",
              "    <tr>\n",
              "      <th>5</th>\n",
              "      <td>Brokered by Sowae Corp</td>\n",
              "      <td>690000</td>\n",
              "      <td>5</td>\n",
              "      <td>2.000000</td>\n",
              "      <td>4004.0</td>\n",
              "      <td>Brooklyn, NY 11238</td>\n",
              "      <td>Brooklyn</td>\n",
              "      <td>Park Place</td>\n",
              "      <td>11238</td>\n",
              "    </tr>\n",
              "  </tbody>\n",
              "</table>\n",
              "</div>\n",
              "    <div class=\"colab-df-buttons\">\n",
              "\n",
              "  <div class=\"colab-df-container\">\n",
              "    <button class=\"colab-df-convert\" onclick=\"convertToInteractive('df-4792b7c8-c650-41da-b61c-dbaae7807499')\"\n",
              "            title=\"Convert this dataframe to an interactive table.\"\n",
              "            style=\"display:none;\">\n",
              "\n",
              "  <svg xmlns=\"http://www.w3.org/2000/svg\" height=\"24px\" viewBox=\"0 -960 960 960\">\n",
              "    <path d=\"M120-120v-720h720v720H120Zm60-500h600v-160H180v160Zm220 220h160v-160H400v160Zm0 220h160v-160H400v160ZM180-400h160v-160H180v160Zm440 0h160v-160H620v160ZM180-180h160v-160H180v160Zm440 0h160v-160H620v160Z\"/>\n",
              "  </svg>\n",
              "    </button>\n",
              "\n",
              "  <style>\n",
              "    .colab-df-container {\n",
              "      display:flex;\n",
              "      gap: 12px;\n",
              "    }\n",
              "\n",
              "    .colab-df-convert {\n",
              "      background-color: #E8F0FE;\n",
              "      border: none;\n",
              "      border-radius: 50%;\n",
              "      cursor: pointer;\n",
              "      display: none;\n",
              "      fill: #1967D2;\n",
              "      height: 32px;\n",
              "      padding: 0 0 0 0;\n",
              "      width: 32px;\n",
              "    }\n",
              "\n",
              "    .colab-df-convert:hover {\n",
              "      background-color: #E2EBFA;\n",
              "      box-shadow: 0px 1px 2px rgba(60, 64, 67, 0.3), 0px 1px 3px 1px rgba(60, 64, 67, 0.15);\n",
              "      fill: #174EA6;\n",
              "    }\n",
              "\n",
              "    .colab-df-buttons div {\n",
              "      margin-bottom: 4px;\n",
              "    }\n",
              "\n",
              "    [theme=dark] .colab-df-convert {\n",
              "      background-color: #3B4455;\n",
              "      fill: #D2E3FC;\n",
              "    }\n",
              "\n",
              "    [theme=dark] .colab-df-convert:hover {\n",
              "      background-color: #434B5C;\n",
              "      box-shadow: 0px 1px 3px 1px rgba(0, 0, 0, 0.15);\n",
              "      filter: drop-shadow(0px 1px 2px rgba(0, 0, 0, 0.3));\n",
              "      fill: #FFFFFF;\n",
              "    }\n",
              "  </style>\n",
              "\n",
              "    <script>\n",
              "      const buttonEl =\n",
              "        document.querySelector('#df-4792b7c8-c650-41da-b61c-dbaae7807499 button.colab-df-convert');\n",
              "      buttonEl.style.display =\n",
              "        google.colab.kernel.accessAllowed ? 'block' : 'none';\n",
              "\n",
              "      async function convertToInteractive(key) {\n",
              "        const element = document.querySelector('#df-4792b7c8-c650-41da-b61c-dbaae7807499');\n",
              "        const dataTable =\n",
              "          await google.colab.kernel.invokeFunction('convertToInteractive',\n",
              "                                                    [key], {});\n",
              "        if (!dataTable) return;\n",
              "\n",
              "        const docLinkHtml = 'Like what you see? Visit the ' +\n",
              "          '<a target=\"_blank\" href=https://colab.research.google.com/notebooks/data_table.ipynb>data table notebook</a>'\n",
              "          + ' to learn more about interactive tables.';\n",
              "        element.innerHTML = '';\n",
              "        dataTable['output_type'] = 'display_data';\n",
              "        await google.colab.output.renderOutput(dataTable, element);\n",
              "        const docLink = document.createElement('div');\n",
              "        docLink.innerHTML = docLinkHtml;\n",
              "        element.appendChild(docLink);\n",
              "      }\n",
              "    </script>\n",
              "  </div>\n",
              "\n",
              "\n",
              "<div id=\"df-4fed4882-bb05-4750-a668-35a4220a4c8e\">\n",
              "  <button class=\"colab-df-quickchart\" onclick=\"quickchart('df-4fed4882-bb05-4750-a668-35a4220a4c8e')\"\n",
              "            title=\"Suggest charts\"\n",
              "            style=\"display:none;\">\n",
              "\n",
              "<svg xmlns=\"http://www.w3.org/2000/svg\" height=\"24px\"viewBox=\"0 0 24 24\"\n",
              "     width=\"24px\">\n",
              "    <g>\n",
              "        <path d=\"M19 3H5c-1.1 0-2 .9-2 2v14c0 1.1.9 2 2 2h14c1.1 0 2-.9 2-2V5c0-1.1-.9-2-2-2zM9 17H7v-7h2v7zm4 0h-2V7h2v10zm4 0h-2v-4h2v4z\"/>\n",
              "    </g>\n",
              "</svg>\n",
              "  </button>\n",
              "\n",
              "<style>\n",
              "  .colab-df-quickchart {\n",
              "      --bg-color: #E8F0FE;\n",
              "      --fill-color: #1967D2;\n",
              "      --hover-bg-color: #E2EBFA;\n",
              "      --hover-fill-color: #174EA6;\n",
              "      --disabled-fill-color: #AAA;\n",
              "      --disabled-bg-color: #DDD;\n",
              "  }\n",
              "\n",
              "  [theme=dark] .colab-df-quickchart {\n",
              "      --bg-color: #3B4455;\n",
              "      --fill-color: #D2E3FC;\n",
              "      --hover-bg-color: #434B5C;\n",
              "      --hover-fill-color: #FFFFFF;\n",
              "      --disabled-bg-color: #3B4455;\n",
              "      --disabled-fill-color: #666;\n",
              "  }\n",
              "\n",
              "  .colab-df-quickchart {\n",
              "    background-color: var(--bg-color);\n",
              "    border: none;\n",
              "    border-radius: 50%;\n",
              "    cursor: pointer;\n",
              "    display: none;\n",
              "    fill: var(--fill-color);\n",
              "    height: 32px;\n",
              "    padding: 0;\n",
              "    width: 32px;\n",
              "  }\n",
              "\n",
              "  .colab-df-quickchart:hover {\n",
              "    background-color: var(--hover-bg-color);\n",
              "    box-shadow: 0 1px 2px rgba(60, 64, 67, 0.3), 0 1px 3px 1px rgba(60, 64, 67, 0.15);\n",
              "    fill: var(--button-hover-fill-color);\n",
              "  }\n",
              "\n",
              "  .colab-df-quickchart-complete:disabled,\n",
              "  .colab-df-quickchart-complete:disabled:hover {\n",
              "    background-color: var(--disabled-bg-color);\n",
              "    fill: var(--disabled-fill-color);\n",
              "    box-shadow: none;\n",
              "  }\n",
              "\n",
              "  .colab-df-spinner {\n",
              "    border: 2px solid var(--fill-color);\n",
              "    border-color: transparent;\n",
              "    border-bottom-color: var(--fill-color);\n",
              "    animation:\n",
              "      spin 1s steps(1) infinite;\n",
              "  }\n",
              "\n",
              "  @keyframes spin {\n",
              "    0% {\n",
              "      border-color: transparent;\n",
              "      border-bottom-color: var(--fill-color);\n",
              "      border-left-color: var(--fill-color);\n",
              "    }\n",
              "    20% {\n",
              "      border-color: transparent;\n",
              "      border-left-color: var(--fill-color);\n",
              "      border-top-color: var(--fill-color);\n",
              "    }\n",
              "    30% {\n",
              "      border-color: transparent;\n",
              "      border-left-color: var(--fill-color);\n",
              "      border-top-color: var(--fill-color);\n",
              "      border-right-color: var(--fill-color);\n",
              "    }\n",
              "    40% {\n",
              "      border-color: transparent;\n",
              "      border-right-color: var(--fill-color);\n",
              "      border-top-color: var(--fill-color);\n",
              "    }\n",
              "    60% {\n",
              "      border-color: transparent;\n",
              "      border-right-color: var(--fill-color);\n",
              "    }\n",
              "    80% {\n",
              "      border-color: transparent;\n",
              "      border-right-color: var(--fill-color);\n",
              "      border-bottom-color: var(--fill-color);\n",
              "    }\n",
              "    90% {\n",
              "      border-color: transparent;\n",
              "      border-bottom-color: var(--fill-color);\n",
              "    }\n",
              "  }\n",
              "</style>\n",
              "\n",
              "  <script>\n",
              "    async function quickchart(key) {\n",
              "      const quickchartButtonEl =\n",
              "        document.querySelector('#' + key + ' button');\n",
              "      quickchartButtonEl.disabled = true;  // To prevent multiple clicks.\n",
              "      quickchartButtonEl.classList.add('colab-df-spinner');\n",
              "      try {\n",
              "        const charts = await google.colab.kernel.invokeFunction(\n",
              "            'suggestCharts', [key], {});\n",
              "      } catch (error) {\n",
              "        console.error('Error during call to suggestCharts:', error);\n",
              "      }\n",
              "      quickchartButtonEl.classList.remove('colab-df-spinner');\n",
              "      quickchartButtonEl.classList.add('colab-df-quickchart-complete');\n",
              "    }\n",
              "    (() => {\n",
              "      let quickchartButtonEl =\n",
              "        document.querySelector('#df-4fed4882-bb05-4750-a668-35a4220a4c8e button');\n",
              "      quickchartButtonEl.style.display =\n",
              "        google.colab.kernel.accessAllowed ? 'block' : 'none';\n",
              "    })();\n",
              "  </script>\n",
              "</div>\n",
              "\n",
              "    </div>\n",
              "  </div>\n"
            ],
            "application/vnd.google.colaboratory.intrinsic+json": {
              "type": "dataframe",
              "variable_name": "housing_clean",
              "summary": "{\n  \"name\": \"housing_clean\",\n  \"rows\": 4382,\n  \"fields\": [\n    {\n      \"column\": \"BROKERTITLE\",\n      \"properties\": {\n        \"dtype\": \"category\",\n        \"num_unique_values\": 975,\n        \"samples\": [\n          \"Brokered by SUPERIOR REALTY SERVICE\",\n          \"Brokered by Du Rite Realty Company Llc\",\n          \"Brokered by Corcoran SoHo\"\n        ],\n        \"semantic_type\": \"\",\n        \"description\": \"\"\n      }\n    },\n    {\n      \"column\": \"PRICE\",\n      \"properties\": {\n        \"dtype\": \"number\",\n        \"std\": 4191198,\n        \"min\": 49500,\n        \"max\": 65000000,\n        \"num_unique_values\": 1212,\n        \"samples\": [\n          1530000,\n          848724,\n          4250000\n        ],\n        \"semantic_type\": \"\",\n        \"description\": \"\"\n      }\n    },\n    {\n      \"column\": \"BEDS\",\n      \"properties\": {\n        \"dtype\": \"number\",\n        \"std\": 2,\n        \"min\": 1,\n        \"max\": 50,\n        \"num_unique_values\": 27,\n        \"samples\": [\n          12,\n          14,\n          10\n        ],\n        \"semantic_type\": \"\",\n        \"description\": \"\"\n      }\n    },\n    {\n      \"column\": \"BATH\",\n      \"properties\": {\n        \"dtype\": \"number\",\n        \"std\": 1.9986894492696372,\n        \"min\": 0.0,\n        \"max\": 50.0,\n        \"num_unique_values\": 22,\n        \"samples\": [\n          2.0,\n          7.0,\n          5.0\n        ],\n        \"semantic_type\": \"\",\n        \"description\": \"\"\n      }\n    },\n    {\n      \"column\": \"PROPERTYSQFT\",\n      \"properties\": {\n        \"dtype\": \"number\",\n        \"std\": 2447.1494417726553,\n        \"min\": 250.0,\n        \"max\": 65535.0,\n        \"num_unique_values\": 1362,\n        \"samples\": [\n          1413.0,\n          522.0,\n          873.0\n        ],\n        \"semantic_type\": \"\",\n        \"description\": \"\"\n      }\n    },\n    {\n      \"column\": \"STATE\",\n      \"properties\": {\n        \"dtype\": \"category\",\n        \"num_unique_values\": 296,\n        \"samples\": [\n          \"Bedford Stuyvesant, NY 11233\",\n          \"College Point, NY 11356\",\n          \"Bronx, NY 10452\"\n        ],\n        \"semantic_type\": \"\",\n        \"description\": \"\"\n      }\n    },\n    {\n      \"column\": \"STREET_NAME\",\n      \"properties\": {\n        \"dtype\": \"category\",\n        \"num_unique_values\": 169,\n        \"samples\": [\n          \"Shore Road\",\n          \"Flatbush\",\n          \"Fort Greene\"\n        ],\n        \"semantic_type\": \"\",\n        \"description\": \"\"\n      }\n    },\n    {\n      \"column\": \"LONG_NAME\",\n      \"properties\": {\n        \"dtype\": \"string\",\n        \"num_unique_values\": 2552,\n        \"samples\": [\n          \"Mid Island\",\n          \"3901\",\n          \"Duane Street\"\n        ],\n        \"semantic_type\": \"\",\n        \"description\": \"\"\n      }\n    },\n    {\n      \"column\": \"ZIP\",\n      \"properties\": {\n        \"dtype\": \"category\",\n        \"num_unique_values\": 178,\n        \"samples\": [\n          \"10465\",\n          \"10305\",\n          \"11366\"\n        ],\n        \"semantic_type\": \"\",\n        \"description\": \"\"\n      }\n    }\n  ]\n}"
            }
          },
          "metadata": {},
          "execution_count": 28
        }
      ]
    },
    {
      "cell_type": "code",
      "source": [
        "#Organize columns by dtype\n",
        "\n",
        "num_housing = housing_clean[\"PRICE\", \"BEDS\", \"BATH\", \"PROPERTYSQFT\"]\n",
        "cat_housing = housing_clean[\"BROKERTITLE\", \"STATE\",\"STREET_NAME\",\"LONG_NAME\", \"ZIP\"]"
      ],
      "metadata": {
        "id": "mRySKs1d6g4_"
      },
      "execution_count": null,
      "outputs": []
    },
    {
      "cell_type": "code",
      "source": [
        "#Import pipeline\n",
        "from sklearn.pipeline import Pipeline\n",
        "from sklearn.impute import SimpleImputer\n",
        "from sklearn.preprocessing import OneHotEncoder\n",
        "\n",
        "num_imputer = SimpleImputer(strategy=\"median\")\n",
        "cat_imputer = SimpleImputer(strategy = \"most_frequent\")\n",
        "\n",
        "#Fit the imputer\n",
        "imputer.fit(num_housing)\n",
        "\n",
        "#Set up numeric and categorical pipelines\n",
        "num_pipeline ="
      ],
      "metadata": {
        "id": "dxQZDaMK6FZd"
      },
      "execution_count": null,
      "outputs": []
    },
    {
      "cell_type": "code",
      "source": [
        "#Transform the data with log and plot\n",
        "plt.hist(np.log(housing_clean[\"BEDS\"]), bins=nbins)"
      ],
      "metadata": {
        "id": "opih-gPpftl3",
        "colab": {
          "base_uri": "https://localhost:8080/",
          "height": 534
        },
        "outputId": "07747d25-2635-46e4-ba88-30a034e7cf8b"
      },
      "execution_count": null,
      "outputs": [
        {
          "output_type": "execute_result",
          "data": {
            "text/plain": [
              "(array([ 770.,  923., 1281.,  519.,  675.,  137.,   58.,    9.,    6.,\n",
              "           5.]),\n",
              " array([0.        , 0.3912023 , 0.7824046 , 1.1736069 , 1.5648092 ,\n",
              "        1.9560115 , 2.3472138 , 2.7384161 , 3.1296184 , 3.5208207 ,\n",
              "        3.91202301]),\n",
              " <BarContainer object of 10 artists>)"
            ]
          },
          "metadata": {},
          "execution_count": 59
        },
        {
          "output_type": "display_data",
          "data": {
            "text/plain": [
              "<Figure size 640x480 with 1 Axes>"
            ],
            "image/png": "[encoded data removed]"
          },
          "metadata": {}
        }
      ]
    },
    {
      "cell_type": "markdown",
      "source": [
        "#Step 5: Visualizations\n",
        "Next, I'm visualizing my data"
      ],
      "metadata": {
        "id": "D4D5kOfngLHP"
      }
    },
    {
      "cell_type": "markdown",
      "source": [
        "#Step 6: Transformations\n",
        "I'm applying four transformations to my data: squaring, cubing, logarithmic and exponential"
      ],
      "metadata": {
        "id": "1sozbLhyf-UE"
      }
    },
    {
      "cell_type": "code",
      "source": [
        "nbins = 10\n",
        "\n",
        "from sklearn.preprocessing import KBinsDiscretizer\n",
        "kb = KBinsDiscretizer(n_bins=nbins, strategy='uniform')"
      ],
      "metadata": {
        "id": "wxLtNKuKBEjP"
      },
      "execution_count": null,
      "outputs": []
    },
    {
      "cell_type": "markdown",
      "source": [
        "I'll probably want to use this transformation for the bedrooms and bathrooms.  "
      ],
      "metadata": {
        "id": "SorjIBqKEqIs"
      }
    }
  ]
}
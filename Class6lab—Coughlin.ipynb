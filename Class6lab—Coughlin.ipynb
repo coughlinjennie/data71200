{
  "cells": [
    {
      "cell_type": "markdown",
      "metadata": {
        "id": "view-in-github",
        "colab_type": "text"
      },
      "source": [
        "<a href=\"https://colab.research.google.com/github/coughlinjennie/data71200/blob/main/Class6lab%E2%80%94Coughlin.ipynb\" target=\"_parent\"><img src=\"https://colab.research.google.com/assets/colab-badge.svg\" alt=\"Open In Colab\"/></a>"
      ]
    },
    {
      "cell_type": "markdown",
      "source": [
        "# Load Libraries"
      ],
      "metadata": {
        "id": "P0_K6RTyeDXn"
      }
    },
    {
      "cell_type": "code",
      "execution_count": null,
      "metadata": {
        "id": "Ru5SKocjXTsJ"
      },
      "outputs": [],
      "source": [
        "%matplotlib inline\n",
        "import matplotlib.pyplot as plt\n",
        "import numpy as np\n",
        "import pandas as pd"
      ]
    },
    {
      "cell_type": "markdown",
      "source": [
        "# Load wine dataset"
      ],
      "metadata": {
        "id": "oVoyDLteeF4K"
      }
    },
    {
      "cell_type": "code",
      "source": [
        "from sklearn.datasets import load_wine\n",
        "dataset = load_wine()"
      ],
      "metadata": {
        "id": "jETaoxdgeBC0"
      },
      "execution_count": null,
      "outputs": []
    },
    {
      "cell_type": "markdown",
      "source": [
        "# Testing/Training Split"
      ],
      "metadata": {
        "id": "GiMafuJPei-D"
      }
    },
    {
      "cell_type": "code",
      "source": [
        "from sklearn.model_selection import train_test_split\n",
        "wine = load_wine()\n",
        "X_train, X_test, y_train, y_test = train_test_split(wine.data, wine.target, stratify=wine.target, test_size=0.5, random_state=0)\n"
      ],
      "metadata": {
        "id": "siC8ZjyQehCY"
      },
      "execution_count": null,
      "outputs": []
    },
    {
      "cell_type": "markdown",
      "metadata": {
        "id": "OkYHTOh9XTsL"
      },
      "source": [
        "# Naive Bayes Classifier"
      ]
    },
    {
      "cell_type": "code",
      "execution_count": null,
      "metadata": {
        "id": "4n67rRFpXTsL"
      },
      "outputs": [],
      "source": [
        "from sklearn.naive_bayes import GaussianNB\n",
        "gnb = GaussianNB()\n",
        "gnb.fit(X_train, y_train)\n",
        "\n"
      ]
    },
    {
      "cell_type": "markdown",
      "source": [
        "## Testing/Training Split Evaluation"
      ],
      "metadata": {
        "id": "1uejAr-OfSH7"
      }
    },
    {
      "cell_type": "code",
      "source": [
        "# Accuracy\n",
        "print(\"Training set score: {:.2f}\".format(gnb.score(X_train, y_train)))\n",
        "print(\"Test set score: {:.2f}\".format(gnb.score(X_test, y_test)))\n"
      ],
      "metadata": {
        "id": "kApyrL89fXIM"
      },
      "execution_count": null,
      "outputs": []
    },
    {
      "cell_type": "code",
      "execution_count": null,
      "metadata": {
        "id": "ZOvfsSukXTsM"
      },
      "outputs": [],
      "source": [
        "# Classification Report\n",
        "from sklearn.metrics import classification_report\n",
        "\n",
        "print(classification_report(y_test, gnb.predict(X_test),\n",
        "                            target_names=[\"class 1\", \"class 2\",\"class 3\"]))\n"
      ]
    },
    {
      "cell_type": "markdown",
      "source": [
        "## Cross Validation (from class 5 notebook)"
      ],
      "metadata": {
        "id": "2p11Whd7faUk"
      }
    },
    {
      "cell_type": "code",
      "source": [
        "from sklearn.model_selection import cross_val_score\n",
        "\n",
        "gnb_cv = gnb = GaussianNB()\n",
        "\n",
        "#5-fold cross validation\n",
        "cv_scores_all = cross_val_score(knn_cv, wine_dataset.data, wine_dataset.target, cv=5)\n",
        "\n",
        "print(\"cv_scores:\\n{}\".format(cv_scores_all))\n",
        "print(\"cv_scores mean:\\n{}\".format(np.mean(cv_scores_all)))\n"
      ],
      "metadata": {
        "id": "Y2EzIagee3D8"
      },
      "execution_count": null,
      "outputs": []
    },
    {
      "cell_type": "markdown",
      "metadata": {
        "id": "_qJliL_4XTsM"
      },
      "source": [
        "# Random Forest"
      ]
    },
    {
      "cell_type": "code",
      "source": [
        "from sklearn.ensemble import RandomForestClassifier\n",
        "from sklearn.datasets import make_moons\n",
        "\n",
        "forest = RandomForestClassifier(n_estimators=5, random_state=2)\n",
        "forest.fit(X_train, y_train)"
      ],
      "metadata": {
        "id": "1i5f--aqq4HB"
      },
      "execution_count": null,
      "outputs": []
    },
    {
      "cell_type": "markdown",
      "source": [
        "## Testing/Training Split Evaluation"
      ],
      "metadata": {
        "id": "BvJe4kM2orxg"
      }
    },
    {
      "cell_type": "code",
      "source": [
        "# Accuracy\n"
      ],
      "metadata": {
        "id": "iTFvh-maotcj"
      },
      "execution_count": null,
      "outputs": []
    },
    {
      "cell_type": "code",
      "execution_count": null,
      "metadata": {
        "id": "eGSDB5oJXTsN"
      },
      "outputs": [],
      "source": [
        "# Classification Report\n"
      ]
    },
    {
      "cell_type": "markdown",
      "source": [
        "## Cross Validation"
      ],
      "metadata": {
        "id": "5M6xmNZ5ot85"
      }
    },
    {
      "cell_type": "code",
      "execution_count": null,
      "metadata": {
        "id": "oQ1-2oHZXTsM"
      },
      "outputs": [],
      "source": []
    },
    {
      "cell_type": "markdown",
      "source": [
        "## Feature Importances"
      ],
      "metadata": {
        "id": "RGG-Hp1LupPn"
      }
    },
    {
      "cell_type": "code",
      "execution_count": null,
      "metadata": {
        "id": "Y7jZrDwsXTsM"
      },
      "outputs": [],
      "source": [
        "# print list of feature importances\n"
      ]
    },
    {
      "cell_type": "code",
      "execution_count": null,
      "metadata": {
        "id": "NlbDzZ5nXTsM"
      },
      "outputs": [],
      "source": [
        "# plot feature importances\n"
      ]
    },
    {
      "cell_type": "markdown",
      "source": [
        "# Support Vector Machines"
      ],
      "metadata": {
        "id": "6bv_A-MRvWNK"
      }
    },
    {
      "cell_type": "code",
      "source": [],
      "metadata": {
        "id": "2HBqLogavYCN"
      },
      "execution_count": null,
      "outputs": []
    },
    {
      "cell_type": "markdown",
      "source": [
        "## Testing/Training Split Evaluation"
      ],
      "metadata": {
        "id": "0DjXhRjIvZtY"
      }
    },
    {
      "cell_type": "code",
      "source": [
        "# polynomial kernel\n",
        "# accuracy\n"
      ],
      "metadata": {
        "id": "-UD6-txAvdYe"
      },
      "execution_count": null,
      "outputs": []
    },
    {
      "cell_type": "code",
      "source": [
        "# polynomial kernel\n",
        "# classification report\n"
      ],
      "metadata": {
        "id": "v4BCpcy2wxTa"
      },
      "execution_count": null,
      "outputs": []
    },
    {
      "cell_type": "code",
      "source": [
        "# radial basis function kernel\n"
      ],
      "metadata": {
        "id": "ly7UZQH2w00t"
      },
      "execution_count": null,
      "outputs": []
    },
    {
      "cell_type": "code",
      "source": [
        "# radial basis function kernel\n",
        "# classification report\n"
      ],
      "metadata": {
        "id": "dH6DC45V0nFP"
      },
      "execution_count": null,
      "outputs": []
    },
    {
      "cell_type": "markdown",
      "source": [
        "## Parameter Selection with Grid Search\n"
      ],
      "metadata": {
        "id": "KNsayGqTveAC"
      }
    },
    {
      "cell_type": "code",
      "source": [
        "# import StratifiedShuffleSplit\n",
        "\n",
        "\n",
        "# import GridSearchCV and set ranges for C and gamma and create the paramter grid\n"
      ],
      "metadata": {
        "id": "3kTarj2S12Db"
      },
      "execution_count": null,
      "outputs": []
    },
    {
      "cell_type": "code",
      "source": [
        "# polynomial kernel\n"
      ],
      "metadata": {
        "id": "XxHmFVlMvhDj"
      },
      "execution_count": null,
      "outputs": []
    },
    {
      "cell_type": "code",
      "source": [
        "# radial basis function kernel\n"
      ],
      "metadata": {
        "id": "aZ2Y3W3630Mz"
      },
      "execution_count": null,
      "outputs": []
    }
  ],
  "metadata": {
    "kernelspec": {
      "display_name": "Python 3",
      "language": "python",
      "name": "python3"
    },
    "language_info": {
      "codemirror_mode": {
        "name": "ipython",
        "version": 3
      },
      "file_extension": ".py",
      "mimetype": "text/x-python",
      "name": "python",
      "nbconvert_exporter": "python",
      "pygments_lexer": "ipython3",
      "version": "3.6.13"
    },
    "colab": {
      "provenance": [],
      "include_colab_link": true
    }
  },
  "nbformat": 4,
  "nbformat_minor": 0
}
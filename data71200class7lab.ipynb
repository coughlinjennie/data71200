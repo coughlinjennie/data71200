{
  "nbformat": 4,
  "nbformat_minor": 0,
  "metadata": {
    "colab": {
      "provenance": [],
      "collapsed_sections": [
        "v_RpbaEEsDxZ"
      ],
      "include_colab_link": true
    },
    "kernelspec": {
      "name": "python3",
      "display_name": "Python 3"
    },
    "language_info": {
      "name": "python"
    }
  },
  "cells": [
    {
      "cell_type": "markdown",
      "metadata": {
        "id": "view-in-github",
        "colab_type": "text"
      },
      "source": [
        "<a href=\"https://colab.research.google.com/github/coughlinjennie/data71200/blob/main/data71200class7lab.ipynb\" target=\"_parent\"><img src=\"https://colab.research.google.com/assets/colab-badge.svg\" alt=\"Open In Colab\"/></a>"
      ]
    },
    {
      "cell_type": "markdown",
      "source": [
        "# Load Libraries"
      ],
      "metadata": {
        "id": "v_RpbaEEsDxZ"
      }
    },
    {
      "cell_type": "code",
      "execution_count": null,
      "metadata": {
        "id": "q-mByOd5sDOS"
      },
      "outputs": [],
      "source": [
        "%matplotlib inline\n",
        "import matplotlib.pyplot as plt\n",
        "import numpy as np\n",
        "import pandas as pd"
      ]
    },
    {
      "cell_type": "markdown",
      "source": [
        "# Load wine dataset"
      ],
      "metadata": {
        "id": "3tAwoZKNtmQP"
      }
    },
    {
      "cell_type": "code",
      "source": [
        "from sklearn.datasets import load_wine\n",
        "dataset = load_wine()"
      ],
      "metadata": {
        "id": "C0ucQntxtlox"
      },
      "execution_count": null,
      "outputs": []
    },
    {
      "cell_type": "markdown",
      "source": [
        "# Testing/Training Split"
      ],
      "metadata": {
        "id": "-2dZTuIQtzuu"
      }
    },
    {
      "cell_type": "code",
      "source": [
        "from sklearn.model_selection import train_test_split\n",
        "X_train, X_test, y_train, y_test = train_test_split(\n",
        "    dataset.data, dataset.target, stratify=dataset.target, random_state=66,test_size=0.2)"
      ],
      "metadata": {
        "id": "SwGZBJTbty-V"
      },
      "execution_count": null,
      "outputs": []
    },
    {
      "cell_type": "markdown",
      "source": [
        "# PCA"
      ],
      "metadata": {
        "id": "0M4ndB2Uzz-E"
      }
    },
    {
      "cell_type": "markdown",
      "source": [
        "## Import Decision Tree Classifer and run the pre-processed data"
      ],
      "metadata": {
        "id": "zo6M1OAht5-3"
      }
    },
    {
      "cell_type": "code",
      "source": [
        "from sklearn.tree import DecisionTreeClassifier\n",
        "from sklearn.metrics import classification_report\n",
        "\n",
        "\n",
        "tree = DecisionTreeClassifier(random_state=0)\n",
        "tree.fit(X_train, y_train)\n",
        "\n",
        "print(\"Accuracy on training set: {:.3f}\".format(tree.score(X_train, y_train)))\n",
        "print(\"Accuracy on test set: {:.3f}\".format(tree.score(X_test, y_test)))\n",
        "print(classification_report(y_test, tree.predict(X_test),\n",
        "                            target_names=[\"class 1\", \"class 2\",\"class 3\"]))"
      ],
      "metadata": {
        "id": "SWXpZUYut4vi",
        "outputId": "7cb182e7-3d84-492d-d7a0-be36acae4cf5",
        "colab": {
          "base_uri": "https://localhost:8080/"
        }
      },
      "execution_count": null,
      "outputs": [
        {
          "output_type": "stream",
          "name": "stdout",
          "text": [
            "Accuracy on training set: 1.000\n",
            "Accuracy on test set: 0.944\n",
            "              precision    recall  f1-score   support\n",
            "\n",
            "     class 1       1.00      0.92      0.96        12\n",
            "     class 2       0.88      1.00      0.93        14\n",
            "     class 3       1.00      0.90      0.95        10\n",
            "\n",
            "    accuracy                           0.94        36\n",
            "   macro avg       0.96      0.94      0.95        36\n",
            "weighted avg       0.95      0.94      0.94        36\n",
            "\n"
          ]
        }
      ]
    },
    {
      "cell_type": "markdown",
      "source": [
        "## 95% of Variance Explained"
      ],
      "metadata": {
        "id": "6NTN027QvNfy"
      }
    },
    {
      "cell_type": "code",
      "source": [
        "# import and fit PCA\n",
        "from sklearn.decomposition import PCA\n",
        "\n",
        "# keep all the principal components of the data\n",
        "pca1 = PCA()\n",
        "# fit PCA model to data\n",
        "pca1.fit(X_train)\n",
        "\n",
        "print('-'*20 + 'Explained variance ratio' + '-'*20)\n",
        "print(pca1.explained_variance_ratio_)"
      ],
      "metadata": {
        "id": "jJ5Zf3-VvKlY",
        "outputId": "1d229047-5b43-4f98-bc29-f78d2727817f",
        "colab": {
          "base_uri": "https://localhost:8080/"
        }
      },
      "execution_count": null,
      "outputs": [
        {
          "output_type": "stream",
          "name": "stdout",
          "text": [
            "--------------------Explained variance ratio--------------------\n",
            "[9.98401172e-01 1.42284575e-03 9.61880033e-05 5.32579132e-05\n",
            " 1.18410314e-05 8.18880826e-06 2.57115515e-06 1.34885106e-06\n",
            " 1.10126996e-06 8.30192129e-07 3.68702688e-07 2.02336443e-07\n",
            " 8.35245777e-08]\n"
          ]
        }
      ]
    },
    {
      "cell_type": "code",
      "source": [
        "# keep the first two principal components of the data\n",
        "pca2 = PCA(n_components=2)\n",
        "# fit PCA model to data\n",
        "pca2.fit(X_train)\n",
        "\n",
        "print('-'*20 + 'Explained variance ratio' + '-'*20)\n",
        "print(pca2.explained_variance_ratio_)"
      ],
      "metadata": {
        "id": "8wVJBMlI67Xf",
        "outputId": "7cb6d398-5501-4e1b-80c1-4326c4b3e886",
        "colab": {
          "base_uri": "https://localhost:8080/"
        }
      },
      "execution_count": null,
      "outputs": [
        {
          "output_type": "stream",
          "name": "stdout",
          "text": [
            "--------------------Explained variance ratio--------------------\n",
            "[0.99840117 0.00142285]\n"
          ]
        }
      ]
    },
    {
      "cell_type": "code",
      "source": [
        "# keep components to explain 95% of the variance\n",
        "pca3 = PCA(n_components=0.95)\n",
        "# fit PCA model to data\n",
        "pca3.fit(X_train)\n",
        "\n",
        "print('-'*20 + 'Explained variance ratio' + '-'*20)\n",
        "print(pca3.explained_variance_ratio_)"
      ],
      "metadata": {
        "id": "Ta4Lb8-AS_kn",
        "outputId": "973e1ca3-afc9-40a5-c200-055c2b002c4d",
        "colab": {
          "base_uri": "https://localhost:8080/"
        }
      },
      "execution_count": null,
      "outputs": [
        {
          "output_type": "stream",
          "name": "stdout",
          "text": [
            "--------------------Explained variance ratio--------------------\n",
            "[0.99840117]\n"
          ]
        }
      ]
    },
    {
      "cell_type": "code",
      "source": [
        "# Decision Tree on PCA-reduced data top two\n",
        "# fit PCA model to data\n",
        "X_train_pca2 = pca2.fit_transform(X_train)\n",
        "# transform data onto the first two principal components\n",
        "X_test_pca2 = pca2.transform(X_test)\n",
        "\n",
        "#Refit the model\n",
        "model2 = DecisionTreeClassifier(random_state=0).fit(X_train_pca2, y_train)\n",
        "\n",
        "print(\"Accuracy on training set: {:.2f}\".format(model2.score(X_train_pca2, y_train)))\n",
        "print(\"Accuracy on test set: {:.2f}\".format(model2.score(X_test_pca2, y_test)))"
      ],
      "metadata": {
        "id": "JBj37q18t4Gu",
        "outputId": "bd963c99-340f-4dae-f227-58b4663519e3",
        "colab": {
          "base_uri": "https://localhost:8080/"
        }
      },
      "execution_count": null,
      "outputs": [
        {
          "output_type": "stream",
          "name": "stdout",
          "text": [
            "Accuracy on training set: 1.00\n",
            "Accuracy on test set: 0.83\n"
          ]
        }
      ]
    },
    {
      "cell_type": "code",
      "source": [
        "# Decision Tree on PCA-reduced data 95%\n",
        "# fit PCA model to data\n",
        "X_train_pca3 = pca3.fit_transform(X_train)\n",
        "# transform data onto the first two principal components\n",
        "X_test_pca3 = pca3.transform(X_test)\n",
        "\n",
        "#model2=LogisticRegression().fit(X_train_pca3, y_train)\n",
        "model2 = DecisionTreeClassifier(random_state=0).fit(X_train_pca3, y_train)\n",
        "\n",
        "print(\"Accuracy on training set: {:.2f}\".format(model2.score(X_train_pca3, y_train)))\n",
        "print(\"Accuracy on test set: {:.2f}\".format(model2.score(X_test_pca3, y_test)))"
      ],
      "metadata": {
        "id": "FdeO7_U8T7J5",
        "outputId": "d8f95edc-76a4-453f-aa77-3de60fef406d",
        "colab": {
          "base_uri": "https://localhost:8080/"
        }
      },
      "execution_count": null,
      "outputs": [
        {
          "output_type": "stream",
          "name": "stdout",
          "text": [
            "Accuracy on training set: 1.00\n",
            "Accuracy on test set: 0.64\n"
          ]
        }
      ]
    },
    {
      "cell_type": "markdown",
      "source": [
        "## Test with an SVM (if you have time)"
      ],
      "metadata": {
        "id": "bfaPDI7kzX0e"
      }
    },
    {
      "cell_type": "code",
      "source": [
        "# SVM on original data\n"
      ],
      "metadata": {
        "id": "JkbgP5TvzZI1"
      },
      "execution_count": null,
      "outputs": []
    },
    {
      "cell_type": "code",
      "source": [
        "# SVM on PCA-reduced data\n"
      ],
      "metadata": {
        "id": "Q2sbD8EMznSs"
      },
      "execution_count": null,
      "outputs": []
    },
    {
      "cell_type": "markdown",
      "source": [
        "# Scale the Data"
      ],
      "metadata": {
        "id": "DXwsVXwf8Lho"
      }
    },
    {
      "cell_type": "code",
      "source": [
        "from sklearn.preprocessing import StandardScaler\n",
        "\n",
        "scaler = StandardScaler()\n",
        "X_train_scaled = scaler.fit_transform(X_train)\n",
        "X_test_scaled = scaler.transform(X_test)"
      ],
      "metadata": {
        "id": "CsyQYIIv8OxV"
      },
      "execution_count": 15,
      "outputs": []
    },
    {
      "cell_type": "markdown",
      "source": [
        "# PCA on Unscaled versus Scaled"
      ],
      "metadata": {
        "id": "Khpiafh58ewn"
      }
    },
    {
      "cell_type": "code",
      "source": [
        "!pip install mglearn\n",
        "import mglearn"
      ],
      "metadata": {
        "id": "rB2W21eYZIYC"
      },
      "execution_count": null,
      "outputs": []
    },
    {
      "cell_type": "code",
      "source": [
        "#unscaled\n",
        "# keep the first two principal components of the data\n",
        "plt.matshow(pca2.components_, cmap='viridis')\n",
        "plt.yticks([0, 1], [\"First component\", \"Second component\"])\n",
        "plt.colorbar()\n",
        "plt.xticks(range(len(dataset.feature_names)),\n",
        "           dataset.feature_names, rotation=60, ha='left')\n",
        "plt.xlabel(\"Feature\")\n",
        "plt.ylabel(\"Principal components\")\n",
        "\n",
        "# fit PCA model to training data\n",
        "# transform data onto the first two principal components\n",
        "# plot first vs. second principal component, colored by class\n",
        "plt.figure(figsize=(9, 9))\n",
        "mglearn.discrete_scatter(X_train_pca2 [:, 0], X_train_pca2 [:, 1], y_train)\n",
        "plt.legend(dataset.target_names, loc=\"best\")\n",
        "plt.gca().set_aspect(\"equal\")\n",
        "plt.xlabel(\"First principal component\")\n",
        "plt.ylabel(\"Second principal component\")\n",
        "\n",
        "# test on SVM\n",
        "\n",
        "# visualize .components_ with plt.matshow\n"
      ],
      "metadata": {
        "id": "YHwniLyI8zK2",
        "outputId": "f7db2c76-448c-4bac-e1d2-89e412c142f7",
        "colab": {
          "base_uri": "https://localhost:8080/",
          "height": 528
        }
      },
      "execution_count": 22,
      "outputs": [
        {
          "output_type": "execute_result",
          "data": {
            "text/plain": [
              "Text(0, 0.5, 'Second principal component')"
            ]
          },
          "metadata": {},
          "execution_count": 22
        },
        {
          "output_type": "display_data",
          "data": {
            "text/plain": [
              "<Figure size 1600x246.154 with 2 Axes>"
            ],
            "image/png": "[encoded data removed]"
          },
          "metadata": {}
        },
        {
          "output_type": "display_data",
          "data": {
            "text/plain": [
              "<Figure size 900x900 with 1 Axes>"
            ],
            "image/png": "[encoded data removed]"
          },
          "metadata": {}
        }
      ]
    },
    {
      "cell_type": "code",
      "source": [
        "# keep the first two principal components of the data\n",
        "\n",
        "# fit PCA model to training data\n",
        "# transform data onto the first two principal components\n",
        "\n",
        "# test on SVM\n",
        "\n",
        "# visualize .components_ with plt.matshow\n"
      ],
      "metadata": {
        "id": "oQFZBOST8Z_o"
      },
      "execution_count": null,
      "outputs": []
    },
    {
      "cell_type": "markdown",
      "source": [
        "### 95% of variance (if you have time)"
      ],
      "metadata": {
        "id": "Uw4MogVA6VZY"
      }
    },
    {
      "cell_type": "code",
      "source": [
        "#unscaled\n",
        "\n",
        "# capture 95% of the variance in the data\n",
        "\n",
        "# fit PCA model to training data\n",
        "# transform data onto the first two principal components\n",
        "\n",
        "\n",
        "# test on SVM\n",
        "\n",
        "# visualize .components_ with plt.matshow"
      ],
      "metadata": {
        "id": "wFiObBrc6bgf"
      },
      "execution_count": null,
      "outputs": []
    },
    {
      "cell_type": "code",
      "source": [
        "#scaled\n",
        "\n",
        "# capture 95% of the variance in the data\n",
        "\n",
        "# fit PCA model to training data\n",
        "# transform data onto the first two principal components\n",
        "\n",
        "# test on SVM\n",
        "\n",
        "# visualize .components_ with plt.matshow"
      ],
      "metadata": {
        "id": "j-ei0jMO6eH-"
      },
      "execution_count": null,
      "outputs": []
    },
    {
      "cell_type": "markdown",
      "source": [
        "# NMF on Unscaled versus Scaled"
      ],
      "metadata": {
        "id": "3zEie1RT_ifB"
      }
    },
    {
      "cell_type": "code",
      "source": [
        "# keep the first two components of the data with NMF\n",
        "\n",
        "# fit NMF model to data\n",
        "# transform data onto the first two principal components\n",
        "\n",
        "# evaluate SVM performance\n"
      ],
      "metadata": {
        "id": "Lc7GBysCTX-E"
      },
      "execution_count": null,
      "outputs": []
    },
    {
      "cell_type": "code",
      "source": [
        "# keep the first two components of the data\n",
        "\n",
        "# fit NMF model to data\n",
        "# transform data onto the first two principal components\n",
        "\n",
        "# evaluate SVM performance\n"
      ],
      "metadata": {
        "id": "W0IU_J-a_nAE"
      },
      "execution_count": null,
      "outputs": []
    },
    {
      "cell_type": "markdown",
      "source": [
        "# TSN versus PCA"
      ],
      "metadata": {
        "id": "tKsTIA-qz9gx"
      }
    },
    {
      "cell_type": "code",
      "source": [
        "# install and load mglearn\n"
      ],
      "metadata": {
        "id": "LHpfuogQWg15"
      },
      "execution_count": null,
      "outputs": []
    },
    {
      "cell_type": "code",
      "source": [
        "# unscaled\n",
        "\n",
        "#tsne\n",
        "# import TSNE\n",
        "\n",
        "\n",
        "# instantiate an instance of TSNE\n",
        "\n",
        "\n",
        "# plot the first two dimensions\n",
        "\n",
        "\n",
        "# plot the first two dimensions of PCA\n"
      ],
      "metadata": {
        "id": "Zc0MbVrq3oed"
      },
      "execution_count": null,
      "outputs": []
    },
    {
      "cell_type": "code",
      "source": [
        "# scaled\n",
        "\n",
        "#tsne\n",
        "# instantiate an instance of TSNE\n",
        "\n",
        "# plot the first two dimensions\n",
        "\n",
        "# plot the first two dimensions of PCA\n"
      ],
      "metadata": {
        "id": "QK3c25-vU1-5"
      },
      "execution_count": null,
      "outputs": []
    }
  ]
}
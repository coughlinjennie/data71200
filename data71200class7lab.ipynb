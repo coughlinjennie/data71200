{
  "nbformat": 4,
  "nbformat_minor": 0,
  "metadata": {
    "colab": {
      "provenance": [],
      "collapsed_sections": [
        "v_RpbaEEsDxZ"
      ],
      "include_colab_link": true
    },
    "kernelspec": {
      "name": "python3",
      "display_name": "Python 3"
    },
    "language_info": {
      "name": "python"
    }
  },
  "cells": [
    {
      "cell_type": "markdown",
      "metadata": {
        "id": "view-in-github",
        "colab_type": "text"
      },
      "source": [
        "<a href=\"https://colab.research.google.com/github/coughlinjennie/data71200/blob/main/data71200class7lab.ipynb\" target=\"_parent\"><img src=\"https://colab.research.google.com/assets/colab-badge.svg\" alt=\"Open In Colab\"/></a>"
      ]
    },
    {
      "cell_type": "markdown",
      "source": [
        "# Load Libraries"
      ],
      "metadata": {
        "id": "v_RpbaEEsDxZ"
      }
    },
    {
      "cell_type": "code",
      "execution_count": null,
      "metadata": {
        "id": "q-mByOd5sDOS"
      },
      "outputs": [],
      "source": [
        "%matplotlib inline\n",
        "import matplotlib.pyplot as plt\n",
        "import numpy as np\n",
        "import pandas as pd"
      ]
    },
    {
      "cell_type": "markdown",
      "source": [
        "# Load wine dataset"
      ],
      "metadata": {
        "id": "3tAwoZKNtmQP"
      }
    },
    {
      "cell_type": "code",
      "source": [
        "from sklearn.datasets import load_wine\n",
        "dataset = load_wine()"
      ],
      "metadata": {
        "id": "C0ucQntxtlox"
      },
      "execution_count": null,
      "outputs": []
    },
    {
      "cell_type": "markdown",
      "source": [
        "# Testing/Training Split"
      ],
      "metadata": {
        "id": "-2dZTuIQtzuu"
      }
    },
    {
      "cell_type": "code",
      "source": [
        "from sklearn.model_selection import train_test_split\n",
        "X_train, X_test, y_train, y_test = train_test_split(\n",
        "    dataset.data, dataset.target, stratify=dataset.target, random_state=66,test_size=0.2)"
      ],
      "metadata": {
        "id": "SwGZBJTbty-V"
      },
      "execution_count": null,
      "outputs": []
    },
    {
      "cell_type": "markdown",
      "source": [
        "# PCA"
      ],
      "metadata": {
        "id": "0M4ndB2Uzz-E"
      }
    },
    {
      "cell_type": "markdown",
      "source": [
        "## Import Decision Tree Classifer and run the pre-processed data"
      ],
      "metadata": {
        "id": "zo6M1OAht5-3"
      }
    },
    {
      "cell_type": "code",
      "source": [],
      "metadata": {
        "id": "SWXpZUYut4vi"
      },
      "execution_count": null,
      "outputs": []
    },
    {
      "cell_type": "markdown",
      "source": [
        "## 95% of Variance Explained"
      ],
      "metadata": {
        "id": "6NTN027QvNfy"
      }
    },
    {
      "cell_type": "code",
      "source": [
        "# import and fit PCA\n"
      ],
      "metadata": {
        "id": "jJ5Zf3-VvKlY"
      },
      "execution_count": null,
      "outputs": []
    },
    {
      "cell_type": "code",
      "source": [
        "# plot the principal components\n"
      ],
      "metadata": {
        "id": "8wVJBMlI67Xf"
      },
      "execution_count": null,
      "outputs": []
    },
    {
      "cell_type": "code",
      "source": [
        "# Decision Tree on PCA-reduced data\n"
      ],
      "metadata": {
        "id": "JBj37q18t4Gu"
      },
      "execution_count": null,
      "outputs": []
    },
    {
      "cell_type": "markdown",
      "source": [
        "## Test with an SVM (if you have time)"
      ],
      "metadata": {
        "id": "bfaPDI7kzX0e"
      }
    },
    {
      "cell_type": "code",
      "source": [
        "# SVM on original data\n"
      ],
      "metadata": {
        "id": "JkbgP5TvzZI1"
      },
      "execution_count": null,
      "outputs": []
    },
    {
      "cell_type": "code",
      "source": [
        "# SVM on PCA-reduced data\n"
      ],
      "metadata": {
        "id": "Q2sbD8EMznSs"
      },
      "execution_count": null,
      "outputs": []
    },
    {
      "cell_type": "markdown",
      "source": [
        "# Scale the Data"
      ],
      "metadata": {
        "id": "DXwsVXwf8Lho"
      }
    },
    {
      "cell_type": "code",
      "source": [],
      "metadata": {
        "id": "CsyQYIIv8OxV"
      },
      "execution_count": null,
      "outputs": []
    },
    {
      "cell_type": "markdown",
      "source": [
        "# PCA on Unscaled versus Scaled"
      ],
      "metadata": {
        "id": "Khpiafh58ewn"
      }
    },
    {
      "cell_type": "code",
      "source": [
        "#unscaled\n",
        "# keep the first two principal components of the data\n",
        "\n",
        "\n",
        "# fit PCA model to training data\n",
        "# transform data onto the first two principal components\n",
        "\n",
        "\n",
        "# test on SVM\n",
        "\n",
        "# visualize .components_ with plt.matshow\n"
      ],
      "metadata": {
        "id": "YHwniLyI8zK2"
      },
      "execution_count": null,
      "outputs": []
    },
    {
      "cell_type": "code",
      "source": [
        "# keep the first two principal components of the data\n",
        "\n",
        "# fit PCA model to training data\n",
        "# transform data onto the first two principal components\n",
        "\n",
        "# test on SVM\n",
        "\n",
        "# visualize .components_ with plt.matshow\n"
      ],
      "metadata": {
        "id": "oQFZBOST8Z_o"
      },
      "execution_count": null,
      "outputs": []
    },
    {
      "cell_type": "markdown",
      "source": [
        "### 95% of variance (if you have time)"
      ],
      "metadata": {
        "id": "Uw4MogVA6VZY"
      }
    },
    {
      "cell_type": "code",
      "source": [
        "#unscaled\n",
        "\n",
        "# capture 95% of the variance in the data\n",
        "\n",
        "# fit PCA model to training data\n",
        "# transform data onto the first two principal components\n",
        "\n",
        "\n",
        "# test on SVM\n",
        "\n",
        "# visualize .components_ with plt.matshow"
      ],
      "metadata": {
        "id": "wFiObBrc6bgf"
      },
      "execution_count": null,
      "outputs": []
    },
    {
      "cell_type": "code",
      "source": [
        "#scaled\n",
        "\n",
        "# capture 95% of the variance in the data\n",
        "\n",
        "# fit PCA model to training data\n",
        "# transform data onto the first two principal components\n",
        "\n",
        "# test on SVM\n",
        "\n",
        "# visualize .components_ with plt.matshow"
      ],
      "metadata": {
        "id": "j-ei0jMO6eH-"
      },
      "execution_count": null,
      "outputs": []
    },
    {
      "cell_type": "markdown",
      "source": [
        "# NMF on Unscaled versus Scaled"
      ],
      "metadata": {
        "id": "3zEie1RT_ifB"
      }
    },
    {
      "cell_type": "code",
      "source": [
        "# keep the first two components of the data with NMF\n",
        "\n",
        "# fit NMF model to data\n",
        "# transform data onto the first two principal components\n",
        "\n",
        "# evaluate SVM performance\n"
      ],
      "metadata": {
        "id": "Lc7GBysCTX-E"
      },
      "execution_count": null,
      "outputs": []
    },
    {
      "cell_type": "code",
      "source": [
        "# keep the first two components of the data\n",
        "\n",
        "# fit NMF model to data\n",
        "# transform data onto the first two principal components\n",
        "\n",
        "# evaluate SVM performance\n"
      ],
      "metadata": {
        "id": "W0IU_J-a_nAE"
      },
      "execution_count": null,
      "outputs": []
    },
    {
      "cell_type": "markdown",
      "source": [
        "# TSN versus PCA"
      ],
      "metadata": {
        "id": "tKsTIA-qz9gx"
      }
    },
    {
      "cell_type": "code",
      "source": [
        "# install and load mglearn\n"
      ],
      "metadata": {
        "id": "LHpfuogQWg15"
      },
      "execution_count": null,
      "outputs": []
    },
    {
      "cell_type": "code",
      "source": [
        "# unscaled\n",
        "\n",
        "#tsne\n",
        "# import TSNE\n",
        "\n",
        "\n",
        "# instantiate an instance of TSNE\n",
        "\n",
        "\n",
        "# plot the first two dimensions\n",
        "\n",
        "\n",
        "# plot the first two dimensions of PCA\n"
      ],
      "metadata": {
        "id": "Zc0MbVrq3oed"
      },
      "execution_count": null,
      "outputs": []
    },
    {
      "cell_type": "code",
      "source": [
        "# scaled\n",
        "\n",
        "#tsne\n",
        "# instantiate an instance of TSNE\n",
        "\n",
        "# plot the first two dimensions\n",
        "\n",
        "# plot the first two dimensions of PCA\n"
      ],
      "metadata": {
        "id": "QK3c25-vU1-5"
      },
      "execution_count": null,
      "outputs": []
    }
  ]
}
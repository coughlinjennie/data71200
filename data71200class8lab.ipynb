{
  "nbformat": 4,
  "nbformat_minor": 0,
  "metadata": {
    "colab": {
      "provenance": [],
      "include_colab_link": true
    },
    "kernelspec": {
      "name": "python3",
      "display_name": "Python 3"
    },
    "language_info": {
      "name": "python"
    }
  },
  "cells": [
    {
      "cell_type": "markdown",
      "metadata": {
        "id": "view-in-github",
        "colab_type": "text"
      },
      "source": [
        "<a href=\"https://colab.research.google.com/github/coughlinjennie/data71200/blob/main/data71200class8lab.ipynb\" target=\"_parent\"><img src=\"https://colab.research.google.com/assets/colab-badge.svg\" alt=\"Open In Colab\"/></a>"
      ]
    },
    {
      "cell_type": "markdown",
      "source": [
        "# Load Libraries"
      ],
      "metadata": {
        "id": "YI5B1z4LsM1F"
      }
    },
    {
      "cell_type": "code",
      "execution_count": null,
      "metadata": {
        "colab": {
          "base_uri": "https://localhost:8080/"
        },
        "id": "UsNqtuVsrV2i",
        "outputId": "5e755fba-61e0-4856-9e31-e8db9d7c3e75"
      },
      "outputs": [
        {
          "output_type": "stream",
          "name": "stdout",
          "text": [
            "Collecting mglearn\n",
            "  Downloading mglearn-0.2.0-py2.py3-none-any.whl (581 kB)\n",
            "\u001b[2K     \u001b[90m━━━━━━━━━━━━━━━━━━━━━━━━━━━━━━━━━━━━━━━━\u001b[0m \u001b[32m581.4/581.4 kB\u001b[0m \u001b[31m5.0 MB/s\u001b[0m eta \u001b[36m0:00:00\u001b[0m\n",
            "\u001b[?25hRequirement already satisfied: numpy in /usr/local/lib/python3.10/dist-packages (from mglearn) (1.25.2)\n",
            "Requirement already satisfied: matplotlib in /usr/local/lib/python3.10/dist-packages (from mglearn) (3.7.1)\n",
            "Requirement already satisfied: scikit-learn in /usr/local/lib/python3.10/dist-packages (from mglearn) (1.2.2)\n",
            "Requirement already satisfied: pandas in /usr/local/lib/python3.10/dist-packages (from mglearn) (2.0.3)\n",
            "Requirement already satisfied: pillow in /usr/local/lib/python3.10/dist-packages (from mglearn) (9.4.0)\n",
            "Requirement already satisfied: cycler in /usr/local/lib/python3.10/dist-packages (from mglearn) (0.12.1)\n",
            "Requirement already satisfied: imageio in /usr/local/lib/python3.10/dist-packages (from mglearn) (2.31.6)\n",
            "Requirement already satisfied: joblib in /usr/local/lib/python3.10/dist-packages (from mglearn) (1.4.2)\n",
            "Requirement already satisfied: contourpy>=1.0.1 in /usr/local/lib/python3.10/dist-packages (from matplotlib->mglearn) (1.2.1)\n",
            "Requirement already satisfied: fonttools>=4.22.0 in /usr/local/lib/python3.10/dist-packages (from matplotlib->mglearn) (4.53.0)\n",
            "Requirement already satisfied: kiwisolver>=1.0.1 in /usr/local/lib/python3.10/dist-packages (from matplotlib->mglearn) (1.4.5)\n",
            "Requirement already satisfied: packaging>=20.0 in /usr/local/lib/python3.10/dist-packages (from matplotlib->mglearn) (24.1)\n",
            "Requirement already satisfied: pyparsing>=2.3.1 in /usr/local/lib/python3.10/dist-packages (from matplotlib->mglearn) (3.1.2)\n",
            "Requirement already satisfied: python-dateutil>=2.7 in /usr/local/lib/python3.10/dist-packages (from matplotlib->mglearn) (2.8.2)\n",
            "Requirement already satisfied: pytz>=2020.1 in /usr/local/lib/python3.10/dist-packages (from pandas->mglearn) (2023.4)\n",
            "Requirement already satisfied: tzdata>=2022.1 in /usr/local/lib/python3.10/dist-packages (from pandas->mglearn) (2024.1)\n",
            "Requirement already satisfied: scipy>=1.3.2 in /usr/local/lib/python3.10/dist-packages (from scikit-learn->mglearn) (1.11.4)\n",
            "Requirement already satisfied: threadpoolctl>=2.0.0 in /usr/local/lib/python3.10/dist-packages (from scikit-learn->mglearn) (3.5.0)\n",
            "Requirement already satisfied: six>=1.5 in /usr/local/lib/python3.10/dist-packages (from python-dateutil>=2.7->matplotlib->mglearn) (1.16.0)\n",
            "Installing collected packages: mglearn\n",
            "Successfully installed mglearn-0.2.0\n"
          ]
        }
      ],
      "source": [
        "%matplotlib inline\n",
        "import matplotlib.pyplot as plt\n",
        "import numpy as np\n",
        "import pandas as pd\n",
        "!pip install mglearn\n",
        "import mglearn"
      ]
    },
    {
      "cell_type": "markdown",
      "source": [
        "# Load wine dataset"
      ],
      "metadata": {
        "id": "0RrvegASsP_4"
      }
    },
    {
      "cell_type": "code",
      "source": [
        "from sklearn.datasets import load_wine\n",
        "dataset = load_wine()"
      ],
      "metadata": {
        "id": "i9TPWub7sG19"
      },
      "execution_count": null,
      "outputs": []
    },
    {
      "cell_type": "markdown",
      "source": [
        "# Testing/Training Split"
      ],
      "metadata": {
        "id": "LBHJ8Zc_sTm1"
      }
    },
    {
      "cell_type": "code",
      "source": [
        "from sklearn.model_selection import train_test_split\n",
        "X_train, X_test, y_train, y_test = train_test_split(dataset.data, dataset.target, stratify=dataset.target, test_size=0.5, random_state=0)\n"
      ],
      "metadata": {
        "id": "-VVqHESVsJZ-"
      },
      "execution_count": null,
      "outputs": []
    },
    {
      "cell_type": "markdown",
      "source": [
        "# Scale the data"
      ],
      "metadata": {
        "id": "K9I6FnL23vAH"
      }
    },
    {
      "cell_type": "code",
      "source": [
        "from sklearn.preprocessing import StandardScaler\n",
        "\n",
        "scaler = StandardScaler()\n",
        "X_train_scaled = scaler.fit_transform(X_train)\n",
        "X_test_scaled = scaler.transform(X_test)"
      ],
      "metadata": {
        "id": "7Aqk0YT53xEM"
      },
      "execution_count": null,
      "outputs": []
    },
    {
      "cell_type": "markdown",
      "source": [
        "## Run PCA on data"
      ],
      "metadata": {
        "id": "VA5hLTcx0UoZ"
      }
    },
    {
      "cell_type": "code",
      "source": [
        "# import PCA library\n",
        "from sklearn.decomposition import PCA\n",
        "\n",
        "# instantiate an instance of PCA with 2\n",
        "pca2 = PCA(n_components=2)\n",
        "\n",
        "# fit on and transforming the training set and then transform the test set\n",
        "pca2.fit_transform(X_train_scaled)\n",
        "pca2.fit(X_test)"
      ],
      "metadata": {
        "id": "0l8_F6e0f_Nb"
      },
      "execution_count": null,
      "outputs": []
    },
    {
      "cell_type": "markdown",
      "source": [
        "# k-Means"
      ],
      "metadata": {
        "id": "wZfGL5wxsbxh"
      }
    },
    {
      "cell_type": "code",
      "source": [
        "# import library\n",
        "from sklearn.cluster import KMeans\n",
        "!pip install mglearn\n",
        "import mglearn\n"
      ],
      "metadata": {
        "id": "SRYnpxoCsSMf"
      },
      "execution_count": null,
      "outputs": []
    },
    {
      "cell_type": "markdown",
      "source": [
        "## Run on original data"
      ],
      "metadata": {
        "id": "OpxHUsNn0h1Y"
      }
    },
    {
      "cell_type": "code",
      "source": [
        "# instantiate an instance of k-Means\n",
        "kmeans = KMeans(n_clusters=3)\n",
        "\n",
        "kmeans.fit(X_train)\n",
        "\n",
        "# get assignments (labels)\n",
        "assignments=kmeans.labels_\n",
        "\n",
        "# plot a scatter matrix of the results\n",
        "\n",
        "mglearn.discrete_scatter(X_train[:, 0], X_train[:, 1], assignments)\n",
        "plt.legend([\"Cluster 0\", \"Cluster 1\", \"Cluster 2\"], loc=\"best\")\n",
        "plt.xlabel(\"Feature 0\")\n",
        "plt.ylabel(\"Feature 1\")"
      ],
      "metadata": {
        "id": "AcqhpY30sMIY"
      },
      "execution_count": null,
      "outputs": []
    },
    {
      "cell_type": "code",
      "source": [
        "# elbow visualization\n"
      ],
      "metadata": {
        "id": "Ei4hQwsq1v7m"
      },
      "execution_count": null,
      "outputs": []
    },
    {
      "cell_type": "markdown",
      "source": [
        "## Run on data after PCA"
      ],
      "metadata": {
        "id": "xf8dG5DK0mYu"
      }
    },
    {
      "cell_type": "code",
      "source": [
        "# instantiate an instance of k-Means\n",
        "\n",
        "# get assignments (labels)\n",
        "\n",
        "# plot a scatter matrix of the results\n"
      ],
      "metadata": {
        "id": "yn_0UfSF0shu"
      },
      "execution_count": null,
      "outputs": []
    },
    {
      "cell_type": "code",
      "source": [
        "# elbow visualization\n"
      ],
      "metadata": {
        "id": "2b-WvNTL130x"
      },
      "execution_count": null,
      "outputs": []
    },
    {
      "cell_type": "markdown",
      "source": [
        "# Aggolmerate/Hierarchical"
      ],
      "metadata": {
        "id": "Jf7xNdjs2HPs"
      }
    },
    {
      "cell_type": "code",
      "source": [
        "# import library\n"
      ],
      "metadata": {
        "id": "e_8FyZBA1sZj"
      },
      "execution_count": null,
      "outputs": []
    },
    {
      "cell_type": "markdown",
      "source": [
        "## Run on original data"
      ],
      "metadata": {
        "id": "GVAEd7qY2Nn-"
      }
    },
    {
      "cell_type": "code",
      "source": [
        "# instantiate an instance of the algorithm\n",
        "\n",
        "# plot the cluster assignments\n"
      ],
      "metadata": {
        "id": "AxB9ykW82Yj9"
      },
      "execution_count": null,
      "outputs": []
    },
    {
      "cell_type": "markdown",
      "source": [
        "## Run on data after PCA"
      ],
      "metadata": {
        "id": "jrML2MFE2Yyw"
      }
    },
    {
      "cell_type": "code",
      "source": [
        "# instantiate an instance of the algorithm\n",
        "\n",
        "# plot the cluster assignments\n"
      ],
      "metadata": {
        "id": "l-7o8UTn2rqQ"
      },
      "execution_count": null,
      "outputs": []
    },
    {
      "cell_type": "markdown",
      "source": [
        "# DBSCAN"
      ],
      "metadata": {
        "id": "4TTvWSug2KAY"
      }
    },
    {
      "cell_type": "code",
      "source": [
        "# import the library\n"
      ],
      "metadata": {
        "id": "eFk4XEda1udN"
      },
      "execution_count": null,
      "outputs": []
    },
    {
      "cell_type": "markdown",
      "source": [
        "## Run on original data"
      ],
      "metadata": {
        "id": "M07em3Jt2U6c"
      }
    },
    {
      "cell_type": "code",
      "source": [
        "# instantiate an instance of the algorithm\n",
        "\n",
        "# plot the cluster assignments\n"
      ],
      "metadata": {
        "id": "-siGgTTa2V2p"
      },
      "execution_count": null,
      "outputs": []
    },
    {
      "cell_type": "markdown",
      "source": [
        "## Run on data after PCA"
      ],
      "metadata": {
        "id": "m0vS0Lsz2sM_"
      }
    },
    {
      "cell_type": "code",
      "source": [
        "# instantiate an instance of the algorithm\n",
        "\n",
        "# plot the cluster assignments\n",
        "\n"
      ],
      "metadata": {
        "id": "d3ZDEoKG2slq"
      },
      "execution_count": null,
      "outputs": []
    },
    {
      "cell_type": "markdown",
      "source": [
        "# Calculate ARI and Silhouette Coefficient"
      ],
      "metadata": {
        "id": "7iX1M4WN4G2E"
      }
    },
    {
      "cell_type": "markdown",
      "source": [
        "## ARI - Original Data"
      ],
      "metadata": {
        "id": "sMXqbAfTccNM"
      }
    },
    {
      "cell_type": "code",
      "source": [
        "# import library\n",
        "\n",
        "# create subplot\n",
        "\n",
        "# make a list of algorithms to use\n",
        "\n",
        "# create a random cluster assignment for reference\n",
        "\n",
        "# plot random assignment\n"
      ],
      "metadata": {
        "id": "B6iyad0Ucd9D"
      },
      "execution_count": null,
      "outputs": []
    },
    {
      "cell_type": "markdown",
      "source": [
        "## ARI - PCA Data"
      ],
      "metadata": {
        "id": "XQG3h2pjceM5"
      }
    },
    {
      "cell_type": "code",
      "source": [
        "# create subplot\n",
        "\n",
        "# make a list of algorithms to use\n",
        "\n",
        "# create a random cluster assignment for reference\n",
        "\n",
        "# plot random assignment\n"
      ],
      "metadata": {
        "id": "TjVV9XAacgdK"
      },
      "execution_count": null,
      "outputs": []
    },
    {
      "cell_type": "markdown",
      "source": [
        "## Silhouette Coefficient - Original Data"
      ],
      "metadata": {
        "id": "ApOCHACC4QCP"
      }
    },
    {
      "cell_type": "code",
      "source": [
        "# import library\n",
        "\n",
        "# create subplot\n",
        "\n",
        "# create a random cluster assignment for reference\n",
        "\n",
        "# plot random assignment\n"
      ],
      "metadata": {
        "id": "NGhK5Md74MUb"
      },
      "execution_count": null,
      "outputs": []
    },
    {
      "cell_type": "markdown",
      "source": [
        "## Silhouette Coefficient - PCA"
      ],
      "metadata": {
        "id": "V1IOiF3I4Tv0"
      }
    },
    {
      "cell_type": "code",
      "source": [
        "# create subplot\n",
        "\n",
        "# create a random cluster assignment for reference\n",
        "\n",
        "# plot random assignment\n"
      ],
      "metadata": {
        "id": "U55gv8o8WgfI"
      },
      "execution_count": null,
      "outputs": []
    }
  ]
}
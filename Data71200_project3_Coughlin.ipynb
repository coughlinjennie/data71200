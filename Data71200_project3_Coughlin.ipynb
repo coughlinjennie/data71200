{
  "nbformat": 4,
  "nbformat_minor": 0,
  "metadata": {
    "colab": {
      "provenance": [],
      "authorship_tag": "ABX9TyM4P9zbIAc2wilIQhhCa16h",
      "include_colab_link": true
    },
    "kernelspec": {
      "name": "python3",
      "display_name": "Python 3"
    },
    "language_info": {
      "name": "python"
    }
  },
  "cells": [
    {
      "cell_type": "markdown",
      "metadata": {
        "id": "view-in-github",
        "colab_type": "text"
      },
      "source": [
        "<a href=\"https://colab.research.google.com/github/coughlinjennie/data71200/blob/projects/Data71200_project3_Coughlin.ipynb\" target=\"_parent\"><img src=\"https://colab.research.google.com/assets/colab-badge.svg\" alt=\"Open In Colab\"/></a>"
      ]
    },
    {
      "cell_type": "markdown",
      "source": [
        "#Step 1: Load data and libraries"
      ],
      "metadata": {
        "id": "SKhD3HUdDlIz"
      }
    },
    {
      "cell_type": "code",
      "execution_count": null,
      "metadata": {
        "id": "Ng1BICXdDb3_"
      },
      "outputs": [],
      "source": [
        "#Load libraries"
      ]
    },
    {
      "cell_type": "code",
      "source": [
        "#Load data"
      ],
      "metadata": {
        "id": "gy6_zf6JDtvu"
      },
      "execution_count": null,
      "outputs": []
    },
    {
      "cell_type": "code",
      "source": [
        "#Scale features as needed"
      ],
      "metadata": {
        "id": "OrPc2yEZDur_"
      },
      "execution_count": null,
      "outputs": []
    },
    {
      "cell_type": "markdown",
      "source": [
        "#Step 2: PCA for feature selection"
      ],
      "metadata": {
        "id": "py7o2DRsDvIq"
      }
    },
    {
      "cell_type": "code",
      "source": [
        "#How many features are needed to capture 95% of the variance"
      ],
      "metadata": {
        "id": "hl_4Y6p6Dzps"
      },
      "execution_count": null,
      "outputs": []
    },
    {
      "cell_type": "code",
      "source": [
        "#Run the Decision Tree model from Project 2 again with PCA data"
      ],
      "metadata": {
        "id": "HEFhsvWFD22A"
      },
      "execution_count": null,
      "outputs": []
    },
    {
      "cell_type": "code",
      "source": [
        "#Evaluete model performance vs. original"
      ],
      "metadata": {
        "id": "UF1C3gglD3Py"
      },
      "execution_count": null,
      "outputs": []
    },
    {
      "cell_type": "markdown",
      "source": [
        "#Step 3: Apply Clustering to Data and Visualize Output"
      ],
      "metadata": {
        "id": "6lPvTl8CEQu3"
      }
    },
    {
      "cell_type": "markdown",
      "source": [
        "##K-means clustering"
      ],
      "metadata": {
        "id": "Y0oULTaKElbL"
      }
    },
    {
      "cell_type": "code",
      "source": [
        "#Run the model with PCA applied"
      ],
      "metadata": {
        "id": "6JHmV64nEjiw"
      },
      "execution_count": null,
      "outputs": []
    },
    {
      "cell_type": "code",
      "source": [
        "#Calculate the ARI"
      ],
      "metadata": {
        "id": "NwGVNc9cEzEa"
      },
      "execution_count": null,
      "outputs": []
    },
    {
      "cell_type": "code",
      "source": [
        "#Calculate the Silhouette Configuration"
      ],
      "metadata": {
        "id": "bx-nVg7FE2VO"
      },
      "execution_count": null,
      "outputs": []
    },
    {
      "cell_type": "code",
      "source": [
        "#Run the model without PCA applied"
      ],
      "metadata": {
        "id": "lVLXtgqTEuy0"
      },
      "execution_count": null,
      "outputs": []
    },
    {
      "cell_type": "code",
      "source": [
        "#Calculate the ARI"
      ],
      "metadata": {
        "id": "jV2avwquE_kD"
      },
      "execution_count": null,
      "outputs": []
    },
    {
      "cell_type": "code",
      "source": [
        "#Calculate the Silhouette Configuration"
      ],
      "metadata": {
        "id": "sizot1NfE_LH"
      },
      "execution_count": null,
      "outputs": []
    },
    {
      "cell_type": "markdown",
      "source": [
        "##Agglomerate/hierarchical"
      ],
      "metadata": {
        "id": "6SCRcY68FDum"
      }
    },
    {
      "cell_type": "code",
      "source": [
        "#Run the model with PCA applied"
      ],
      "metadata": {
        "id": "H078SbsXFNMo"
      },
      "execution_count": null,
      "outputs": []
    },
    {
      "cell_type": "code",
      "source": [],
      "metadata": {
        "id": "4Le-Jg7EFRE8"
      },
      "execution_count": null,
      "outputs": []
    },
    {
      "cell_type": "code",
      "source": [],
      "metadata": {
        "id": "uU8pqcPsFQ3Z"
      },
      "execution_count": null,
      "outputs": []
    },
    {
      "cell_type": "code",
      "source": [
        "#Run the model without PCA applied"
      ],
      "metadata": {
        "id": "ayrBf1qxFSwg"
      },
      "execution_count": null,
      "outputs": []
    },
    {
      "cell_type": "markdown",
      "source": [
        "##DBSCAN"
      ],
      "metadata": {
        "id": "WCsj2LP_FIos"
      }
    },
    {
      "cell_type": "code",
      "source": [
        "#Run the model with PCA applied"
      ],
      "metadata": {
        "id": "6JyKPp5PFMkF"
      },
      "execution_count": null,
      "outputs": []
    },
    {
      "cell_type": "code",
      "source": [],
      "metadata": {
        "id": "Xl3sxkx9FRhe"
      },
      "execution_count": null,
      "outputs": []
    },
    {
      "cell_type": "code",
      "source": [],
      "metadata": {
        "id": "-DyxRcaOFSD1"
      },
      "execution_count": null,
      "outputs": []
    },
    {
      "cell_type": "code",
      "source": [
        "#Run the model without PCA applied"
      ],
      "metadata": {
        "id": "-KGYSkWYFU3q"
      },
      "execution_count": null,
      "outputs": []
    }
  ]
}